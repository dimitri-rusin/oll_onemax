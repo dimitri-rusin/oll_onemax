{
 "cells": [
  {
   "cell_type": "code",
   "execution_count": 1,
   "id": "e32d57ed-2296-41b6-aba3-5256dd2a13fb",
   "metadata": {},
   "outputs": [],
   "source": [
    "# Cell 1: Input Database Path\n",
    "\n",
    "# Input for database path\n",
    "oo_db_path = '/home/dimitri/code/oll_onemax/computed/cirrus/iphone.db'"
   ]
  },
  {
   "cell_type": "code",
   "execution_count": 2,
   "id": "e478eea8-89a1-4c1f-8452-44ed04c7a8b1",
   "metadata": {},
   "outputs": [
    {
     "ename": "AttributeError",
     "evalue": "'int' object has no attribute 'items'",
     "output_type": "error",
     "traceback": [
      "\u001b[0;31m---------------------------------------------------------------------------\u001b[0m",
      "\u001b[0;31mAttributeError\u001b[0m                            Traceback (most recent call last)",
      "Cell \u001b[0;32mIn[2], line 58\u001b[0m\n\u001b[1;32m     55\u001b[0m   \u001b[38;5;28;01mreturn\u001b[39;00m items\n\u001b[1;32m     57\u001b[0m \u001b[38;5;66;03m# Load, process, and display the config data\u001b[39;00m\n\u001b[0;32m---> 58\u001b[0m flattened_config_df \u001b[38;5;241m=\u001b[39m \u001b[43mload_and_flatten_config\u001b[49m\u001b[43m(\u001b[49m\u001b[43moo_db_path\u001b[49m\u001b[43m)\u001b[49m\n\u001b[1;32m     59\u001b[0m flattened_config_df\n",
      "Cell \u001b[0;32mIn[2], line 35\u001b[0m, in \u001b[0;36mload_and_flatten_config\u001b[0;34m(db_path)\u001b[0m\n\u001b[1;32m     33\u001b[0m   flattened_config \u001b[38;5;241m=\u001b[39m []\n\u001b[1;32m     34\u001b[0m   \u001b[38;5;28;01mfor\u001b[39;00m k, v \u001b[38;5;129;01min\u001b[39;00m config\u001b[38;5;241m.\u001b[39mitems():\n\u001b[0;32m---> 35\u001b[0m     flattened_config\u001b[38;5;241m.\u001b[39mextend(\u001b[43mflatten_config\u001b[49m\u001b[43m(\u001b[49m\u001b[43mv\u001b[49m\u001b[43m,\u001b[49m\u001b[43m \u001b[49m\u001b[43mk\u001b[49m\u001b[43m)\u001b[49m)\n\u001b[1;32m     37\u001b[0m   \u001b[38;5;28;01mreturn\u001b[39;00m pd\u001b[38;5;241m.\u001b[39mDataFrame(flattened_config)\n\u001b[1;32m     39\u001b[0m \u001b[38;5;28;01mexcept\u001b[39;00m sqlite3\u001b[38;5;241m.\u001b[39mError \u001b[38;5;28;01mas\u001b[39;00m e:\n",
      "Cell \u001b[0;32mIn[2], line 45\u001b[0m, in \u001b[0;36mflatten_config\u001b[0;34m(config, parent_key)\u001b[0m\n\u001b[1;32m     43\u001b[0m \u001b[38;5;28;01mdef\u001b[39;00m \u001b[38;5;21mflatten_config\u001b[39m(config, parent_key\u001b[38;5;241m=\u001b[39m\u001b[38;5;124m'\u001b[39m\u001b[38;5;124m'\u001b[39m):\n\u001b[1;32m     44\u001b[0m   items \u001b[38;5;241m=\u001b[39m []\n\u001b[0;32m---> 45\u001b[0m   \u001b[38;5;28;01mfor\u001b[39;00m k, v \u001b[38;5;129;01min\u001b[39;00m \u001b[43mconfig\u001b[49m\u001b[38;5;241;43m.\u001b[39;49m\u001b[43mitems\u001b[49m():\n\u001b[1;32m     46\u001b[0m     new_key \u001b[38;5;241m=\u001b[39m \u001b[38;5;124mf\u001b[39m\u001b[38;5;124m\"\u001b[39m\u001b[38;5;132;01m{\u001b[39;00mparent_key\u001b[38;5;132;01m}\u001b[39;00m\u001b[38;5;124m__\u001b[39m\u001b[38;5;132;01m{\u001b[39;00mk\u001b[38;5;132;01m}\u001b[39;00m\u001b[38;5;124m\"\u001b[39m \u001b[38;5;28;01mif\u001b[39;00m parent_key \u001b[38;5;28;01melse\u001b[39;00m k\n\u001b[1;32m     47\u001b[0m     \u001b[38;5;28;01mif\u001b[39;00m \u001b[38;5;28misinstance\u001b[39m(v, \u001b[38;5;28mdict\u001b[39m):\n",
      "\u001b[0;31mAttributeError\u001b[0m: 'int' object has no attribute 'items'"
     ]
    }
   ],
   "source": [
    "# Cell 2: Process and Display Config Table\n",
    "\n",
    "import sqlite3\n",
    "import pandas as pd\n",
    "\n",
    "def load_and_flatten_config(db_path):\n",
    "  try:\n",
    "    with sqlite3.connect(db_path) as conn:\n",
    "      cursor = conn.cursor()\n",
    "      cursor.execute(\"SELECT key, value FROM config\")\n",
    "      rows = cursor.fetchall()\n",
    "\n",
    "    config = {}\n",
    "    for key, value in rows:\n",
    "      if value.isdigit():\n",
    "        parsed_value = int(value)\n",
    "      elif all(char.isdigit() or char == '.' for char in value):\n",
    "        try:\n",
    "          parsed_value = float(value)\n",
    "        except ValueError:\n",
    "          parsed_value = value\n",
    "      else:\n",
    "        parsed_value = value\n",
    "\n",
    "      key_parts = key.split('__')\n",
    "      d = config\n",
    "      for part in key_parts[:-1]:\n",
    "        if part not in d:\n",
    "          d[part] = {}\n",
    "        d = d[part]\n",
    "      d[key_parts[-1]] = parsed_value\n",
    "\n",
    "    flattened_config = []\n",
    "    for k, v in config.items():\n",
    "      flattened_config.extend(flatten_config(v, k))\n",
    "\n",
    "    return pd.DataFrame(flattened_config)\n",
    "\n",
    "  except sqlite3.Error as e:\n",
    "    print(f\"An error occurred: {e}\")\n",
    "    return pd.DataFrame()\n",
    "\n",
    "def flatten_config(config, parent_key=''):\n",
    "  items = []\n",
    "  for k, v in config.items():\n",
    "    new_key = f\"{parent_key}__{k}\" if parent_key else k\n",
    "    if isinstance(v, dict):\n",
    "      items.extend(flatten_config(v, new_key))\n",
    "    else:\n",
    "      if isinstance(v, (int, float)):\n",
    "        formatted_value = f\"{v:,}\"\n",
    "      else:\n",
    "        formatted_value = v\n",
    "      items.append({'Key': new_key, 'Value': formatted_value})\n",
    "  return items\n",
    "\n",
    "# Load, process, and display the config data\n",
    "flattened_config_df = load_and_flatten_config(oo_db_path)\n",
    "flattened_config_df"
   ]
  }
 ],
 "metadata": {
  "kernelspec": {
   "display_name": "Python 3 (ipykernel)",
   "language": "python",
   "name": "python3"
  },
  "language_info": {
   "codemirror_mode": {
    "name": "ipython",
    "version": 3
   },
   "file_extension": ".py",
   "mimetype": "text/x-python",
   "name": "python",
   "nbconvert_exporter": "python",
   "pygments_lexer": "ipython3",
   "version": "3.10.0"
  },
  "widgets": {
   "application/vnd.jupyter.widget-state+json": {
    "state": {},
    "version_major": 2,
    "version_minor": 0
   }
  }
 },
 "nbformat": 4,
 "nbformat_minor": 5
}
