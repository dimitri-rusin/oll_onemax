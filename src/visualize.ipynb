{
 "cells": [
  {
   "cell_type": "code",
   "execution_count": 31,
   "id": "9601ba33",
   "metadata": {},
   "outputs": [],
   "source": [
    "import ast\n",
    "import inspectify\n",
    "import math\n",
    "import os\n",
    "import pandas as pd\n",
    "import plotly.graph_objects as go\n",
    "import plotly.graph_objs as go\n",
    "import sqlite3\n",
    "import sqlite3\n",
    "import sqlite3\n",
    "\n",
    "def load_config_data(db_path):\n",
    "  loaded_config = {}\n",
    "  try:\n",
    "    with sqlite3.connect(db_path) as conn:\n",
    "      cursor = conn.cursor()\n",
    "      cursor.execute(\"SELECT key, value FROM CONFIG\")\n",
    "      rows = cursor.fetchall()\n",
    "\n",
    "    # Process each row to infer the type and construct a nested dictionary\n",
    "    for key, value in rows:\n",
    "      # Infer the type\n",
    "      if value.isdigit():\n",
    "        parsed_value = int(value)\n",
    "      elif all(char.isdigit() or char == '.' for char in value):\n",
    "        try:\n",
    "          parsed_value = float(value)\n",
    "        except ValueError:\n",
    "          parsed_value = value\n",
    "      elif value.startswith('{') and value.endswith('}'):\n",
    "        try:\n",
    "          # Attempt to parse as a dictionary\n",
    "          parsed_value = ast.literal_eval(value)\n",
    "        except (ValueError, SyntaxError):\n",
    "          # If parsing fails, keep the original value\n",
    "          parsed_value = value\n",
    "      else:\n",
    "        parsed_value = value\n",
    "\n",
    "      # Create nested dictionaries based on key structure\n",
    "      key_parts = key.split('__')\n",
    "      d = loaded_config\n",
    "      for part in key_parts[:-1]:\n",
    "        if part not in d:\n",
    "          d[part] = {}\n",
    "        d = d[part]\n",
    "      d[key_parts[-1]] = parsed_value\n",
    "  except sqlite3.Error:\n",
    "    # If the CONFIG table doesn't exist or any other SQL error occurs\n",
    "    loaded_config = {}\n",
    "\n",
    "  return loaded_config\n",
    "\n",
    "def load_configs_from_folder(folder_path):\n",
    "  configs = []\n",
    "  for file in os.listdir(folder_path):\n",
    "    if file.endswith(\".db\"):\n",
    "      db_path = os.path.join(folder_path, file)\n",
    "      config = load_config_data(db_path)\n",
    "      config['db_path'] = db_path\n",
    "      configs.append(config)\n",
    "  return configs\n",
    "\n",
    "def format_value_for_expression(value):\n",
    "  if isinstance(value, str):\n",
    "    # Add quotes around strings\n",
    "    return f\"\\\"{value}\\\"\"\n",
    "  return value\n",
    "\n",
    "def match_config_with_filter(config, filter_expr):\n",
    "  for key, value in filter_expr.items():\n",
    "    if isinstance(value, dict):\n",
    "      # Recursive call for nested dictionaries\n",
    "      if key not in config or not match_config_with_filter(config[key], value):\n",
    "        return False\n",
    "    elif isinstance(value, list):\n",
    "      # Handle lists of expressions\n",
    "      for i, expr in enumerate(value):\n",
    "        if i >= len(config.get(key, [])):\n",
    "          return False\n",
    "        config_value = format_value_for_expression(config[key][i])\n",
    "        expression = expr.replace(\"{}\", str(config_value))\n",
    "        condition = eval(expression)\n",
    "        assert type(condition) == bool, f\"Filter {key}:{expression} must express a bool.\"\n",
    "        if not condition:\n",
    "          return False\n",
    "    else:\n",
    "      # Handle individual expressions\n",
    "      config_value = format_value_for_expression(config.get(key))\n",
    "      expression = value.replace(\"{}\", str(config_value))\n",
    "      condition = eval(expression)\n",
    "      assert type(condition) == bool, f\"Filter {key}:{expression} must express a bool.\"\n",
    "      if not condition:\n",
    "        return False\n",
    "  return True\n",
    "\n",
    "def filter_configs(configs, filter_expr):\n",
    "  matching_db_paths = []\n",
    "  for config in configs:\n",
    "    if match_config_with_filter(config, filter_expr):\n",
    "      matching_db_paths.append(config.get('db_path'))\n",
    "  return matching_db_paths\n",
    "\n",
    "def load_policy_performance_data(db_path, xaxis_choice, yaxis_choice):\n",
    "  conn = sqlite3.connect(db_path)\n",
    "  cursor = conn.cursor()\n",
    "\n",
    "  # Execute SQL query based on x-axis choice\n",
    "  cursor.execute(f'SELECT policy_id, {xaxis_choice} FROM CONSTRUCTED_POLICIES WHERE policy_id >= 1')\n",
    "  training_data = cursor.fetchall()\n",
    "\n",
    "  try:\n",
    "    cursor.execute('SELECT policy_id, num_training_episodes, num_total_function_evaluations, num_total_timesteps FROM CONSTRUCTED_POLICIES WHERE policy_id >= 1')\n",
    "    rows = cursor.fetchall()\n",
    "    policy_id_to_x_values = {policy_id: {column_name: value for column_name, value in zip(['num_training_episodes', 'num_total_function_evaluations', 'num_total_timesteps'], row)}\n",
    "                 for policy_id, *row in rows}\n",
    "  except sqlite3.OperationalError:\n",
    "    cursor.execute('SELECT policy_id, num_training_episodes FROM CONSTRUCTED_POLICIES WHERE policy_id >= 1')\n",
    "    rows = cursor.fetchall()\n",
    "    policy_id_to_x_values = {policy_id: {'num_training_episodes': num_training_episodes}\n",
    "                 for policy_id, num_training_episodes in rows}\n",
    "\n",
    "  avg_function_evaluations, std_dev_evaluations = [], []\n",
    "  for policy_id, _ in training_data:\n",
    "    cursor.execute(f'SELECT {yaxis_choice} FROM EVALUATION_EPISODES WHERE policy_id = ?', (policy_id,))\n",
    "    evaluations = [e[0] for e in cursor.fetchall()]\n",
    "    assert evaluations[0] is not None, f\"The database {db_path} has a table EVALUATION_EPISODES with a cell of column {yaxis_choice} that is NULL!\"\n",
    "    num_evaluation_episodes = len(evaluations)  # Assuming number of episodes is length of evaluations\n",
    "\n",
    "    avg_evaluations = sum(evaluations) / len(evaluations) if evaluations else None\n",
    "    std_dev = math.sqrt(sum((e - avg_evaluations) ** 2 for e in evaluations) / len(evaluations)) if evaluations else 0\n",
    "    avg_function_evaluations.append(avg_evaluations if avg_evaluations is not None else 0)\n",
    "    std_dev_evaluations.append(std_dev)\n",
    "\n",
    "  policy_ids, num_training_timesteps_or_num_training_fes = zip(*training_data) if training_data else ([], [])\n",
    "\n",
    "  cursor.execute(f'SELECT {yaxis_choice} FROM EVALUATION_EPISODES WHERE policy_id = -1')\n",
    "  baseline_evaluations = [e[0] for e in cursor.fetchall()]\n",
    "  baseline_avg_length = sum(baseline_evaluations) / len(baseline_evaluations)\n",
    "  baseline_variance = sum((e - baseline_avg_length) ** 2 for e in baseline_evaluations) / (len(baseline_evaluations) - 1) if len(baseline_evaluations) > 1 else 0\n",
    "  baseline_std_dev = math.sqrt(baseline_variance)\n",
    "\n",
    "  baseline_upper_bound = [baseline_avg_length + baseline_std_dev] * len(num_training_timesteps_or_num_training_fes)\n",
    "  baseline_lower_bound = [baseline_avg_length - baseline_std_dev] * len(num_training_timesteps_or_num_training_fes)\n",
    "\n",
    "  data = [\n",
    "    go.Scatter(x=num_training_timesteps_or_num_training_fes, y=avg_function_evaluations, mode='lines+markers', name='#FEs until optimum', line=dict(color='blue', width=4)),\n",
    "    go.Scatter(x=num_training_timesteps_or_num_training_fes, y=[avg + std for avg, std in zip(avg_function_evaluations, std_dev_evaluations)], mode='lines', line=dict(color='rgba(173,216,230,0.2)'), name='Upper Bound (Mean + Std. Dev.)'),\n",
    "    go.Scatter(x=num_training_timesteps_or_num_training_fes, y=[avg - std for avg, std in zip(avg_function_evaluations, std_dev_evaluations)], mode='lines', fill='tonexty', line=dict(color='rgba(173,216,230,0.2)'), name='Lower Bound (Mean - Std. Dev.)'),\n",
    "    go.Scatter(x=[min(num_training_timesteps_or_num_training_fes), max(num_training_timesteps_or_num_training_fes)] if num_training_timesteps_or_num_training_fes else [0], y=[baseline_avg_length, baseline_avg_length], mode='lines', name='Theory: √(𝑛/(𝑛 − 𝑓(𝑥)))', line=dict(color='orange', width=2, dash='dash')),\n",
    "    go.Scatter(x=num_training_timesteps_or_num_training_fes, y=baseline_upper_bound, mode='lines', line=dict(color='rgba(255, 165, 0, 0.2)'), name='Upper Bound (Baseline Variance)'),\n",
    "    go.Scatter(x=num_training_timesteps_or_num_training_fes, y=baseline_lower_bound, mode='lines', fill='tonexty', line=dict(color='rgba(255, 165, 0, 0.2)'), name='Lower Bound (Baseline Variance)'),\n",
    "  ]\n",
    "\n",
    "  conn.close()\n",
    "  return data\n",
    "\n",
    "def policy_performance(db_path, xaxis_choice, yaxis_choice):\n",
    "  data = load_policy_performance_data(db_path, xaxis_choice, yaxis_choice)\n",
    "  # Define the layout with larger dimensions and enhanced appearance\n",
    "  layout = go.Layout(\n",
    "    titlefont=dict(size=24),  # Bigger title font size\n",
    "    xaxis=dict(\n",
    "      title=xaxis_choice.replace('_', ' ').title(),\n",
    "      titlefont=dict(size=18),  # Bigger axis title font size\n",
    "      tickfont=dict(size=14),  # Bigger tick labels font size\n",
    "      gridcolor='lightgrey',  # Grid color\n",
    "      gridwidth=2,  # Grid line width\n",
    "    ),\n",
    "    yaxis=dict(\n",
    "      title='#FEs until optimum',\n",
    "      titlefont=dict(size=18),  # Bigger axis title font size\n",
    "      tickfont=dict(size=14),  # Bigger tick labels font size\n",
    "      gridcolor='lightgrey',  # Grid color\n",
    "      gridwidth=2,  # Grid line width\n",
    "    ),\n",
    "    font=dict(family='Courier New, monospace', size=18, color='RebeccaPurple'),\n",
    "    paper_bgcolor='rgba(0,0,0,0)',\n",
    "    plot_bgcolor='rgba(245, 245, 245, 1)',\n",
    "    width=1100,  # Width of the figure\n",
    "    height=600,  # Height of the figure\n",
    "    margin=dict(l=50, r=50, b=100, t=100, pad=4),  # Margins to prevent cutoff\n",
    "    showlegend=False,  # This will remove the legend\n",
    "  )\n",
    "\n",
    "  fig = go.Figure(data=data, layout=layout)\n",
    "  fig.show()\n",
    "\n",
    "def get_policy_id_for_timesteps(db_path, total_timesteps):\n",
    "  try:\n",
    "    with sqlite3.connect(db_path) as conn:\n",
    "      cursor = conn.cursor()\n",
    "      # SQL query to fetch policy_id based on the total timesteps\n",
    "      cursor.execute('SELECT policy_id FROM CONSTRUCTED_POLICIES WHERE num_total_timesteps = ?', (total_timesteps,))\n",
    "      result = cursor.fetchone()\n",
    "      return result[0] if result else None\n",
    "  except sqlite3.Error as e:\n",
    "    print(f\"SQLite error: {e}\")\n",
    "    return None\n",
    "\n",
    "def generate_fitness_lambda_plot(db_path, policy_total_timesteps, yaxis_choice):\n",
    "\n",
    "  conn = sqlite3.connect(db_path)\n",
    "  cursor = conn.cursor()\n",
    "\n",
    "  # Fetch baseline fitness-lambda data (policy_id = -1)\n",
    "  cursor.execute('SELECT fitness, lambda_minus_one FROM POLICY_DETAILS WHERE policy_id = -1')\n",
    "  baseline_fitness_lambda_data = cursor.fetchall()\n",
    "\n",
    "  baseline_curve = go.Scatter(\n",
    "    x=[d[0] for d in baseline_fitness_lambda_data],\n",
    "    y=[d[1] + 1 for d in baseline_fitness_lambda_data],\n",
    "    mode='lines+markers',\n",
    "    name='Baseline Fitness-Lambda',\n",
    "    line=dict(color='orange', width=4)\n",
    "  )\n",
    "\n",
    "  policy_id = get_policy_id_for_timesteps(db_path, policy_total_timesteps)\n",
    "  assert policy_id is not None, f\"The number of total timesteps {policy_total_timesteps:,} has resulted in a non-existing policy ID!\"\n",
    "\n",
    "  # Fetch mean and variance of initial fitness for the specified policy\n",
    "  cursor.execute('SELECT mean_initial_fitness, variance_initial_fitness FROM CONSTRUCTED_POLICIES WHERE policy_id = ?', (policy_id,))\n",
    "  fitness_stats = cursor.fetchone()\n",
    "  mean_initial_fitness = std_dev_initial_fitness = None\n",
    "  if fitness_stats and fitness_stats[0]:\n",
    "    mean_initial_fitness = fitness_stats[0]\n",
    "    variance_initial_fitness = fitness_stats[1]\n",
    "    std_dev_initial_fitness = math.sqrt(variance_initial_fitness)\n",
    "\n",
    "  # Fetch fitness-lambda data for the specified policy\n",
    "  cursor.execute('SELECT fitness, lambda_minus_one FROM POLICY_DETAILS WHERE policy_id = ?', (policy_id,))\n",
    "  fitness_lambda_data = cursor.fetchall()\n",
    "\n",
    "  selected_policy_curve = go.Scatter(\n",
    "    x=[d[0] for d in fitness_lambda_data],\n",
    "    y=[d[1] + 1 for d in fitness_lambda_data],\n",
    "    mode='lines+markers',\n",
    "    name=f'Fitness-Lambda Policy {policy_id}',\n",
    "    line=dict(color='blue', width=4)\n",
    "  )\n",
    "\n",
    "  data = [baseline_curve, selected_policy_curve]\n",
    "\n",
    "  # Adding shaded area for variance if available\n",
    "  if mean_initial_fitness is not None:\n",
    "    upper_bound = go.Scatter(\n",
    "      x=[mean_initial_fitness + std_dev_initial_fitness] * 2,\n",
    "      y=[0, max([d[1] + 1 for d in fitness_lambda_data])],\n",
    "      mode='lines',\n",
    "      line=dict(width=0),\n",
    "      showlegend=False\n",
    "    )\n",
    "    lower_bound = go.Scatter(\n",
    "      x=[mean_initial_fitness - std_dev_initial_fitness] * 2,\n",
    "      y=[0, max([d[1] + 1 for d in fitness_lambda_data])],\n",
    "      mode='lines',\n",
    "      fill='tonexty',\n",
    "      fillcolor='rgba(0, 255, 0, 0.2)',\n",
    "      line=dict(width=0),\n",
    "      name='Variance Initial Fitness'\n",
    "    )\n",
    "    mean_line = go.Scatter(\n",
    "      x=[mean_initial_fitness, mean_initial_fitness],\n",
    "      y=[0, max([d[1] + 1 for d in fitness_lambda_data])],\n",
    "      mode='lines',\n",
    "      name=f'Mean Initial Fitness',\n",
    "      line=dict(color='green', width=2, dash='dot')\n",
    "    )\n",
    "    data.extend([upper_bound, lower_bound, mean_line])\n",
    "\n",
    "  layout = go.Layout(\n",
    "    title=f'Fitness-Lambda Assignment for Policy {policy_id}',\n",
    "    xaxis=dict(title='Fitness'),\n",
    "    yaxis=dict(title='Lambda'),\n",
    "    font=dict(family='Courier New, monospace', size=18, color='RebeccaPurple'),\n",
    "    paper_bgcolor='rgba(0,0,0,0)',\n",
    "    plot_bgcolor='rgba(245, 245, 245, 1)'\n",
    "  )\n",
    "\n",
    "\n",
    "\n",
    "  # ================= Print scalar info about specified policy: ====================================\n",
    "  cursor.execute(f'SELECT policy_id, {xaxis_choice} FROM CONSTRUCTED_POLICIES WHERE policy_id = ?', (policy_id,))\n",
    "  training_data = cursor.fetchone()\n",
    "  assert len(training_data) > 0, f\"Policy ID {policy_id} missing!\"\n",
    "  _, num_training_timesteps_or_num_training_fes = training_data\n",
    "  cursor.execute(f'SELECT {yaxis_choice} FROM EVALUATION_EPISODES WHERE policy_id = ?', (policy_id,))\n",
    "  evaluations = [e[0] for e in cursor.fetchall()]\n",
    "  avg_evaluations = sum(evaluations) / len(evaluations) if evaluations else None\n",
    "  std_dev = math.sqrt(sum((e - avg_evaluations) ** 2 for e in evaluations) / len(evaluations)) if evaluations else 0\n",
    "\n",
    "  cursor.execute(f'SELECT {yaxis_choice} FROM EVALUATION_EPISODES WHERE policy_id = -1')\n",
    "  baseline_evaluations = [e[0] for e in cursor.fetchall()]\n",
    "  baseline_avg_length = sum(baseline_evaluations) / len(baseline_evaluations)\n",
    "  baseline_variance = sum((e - baseline_avg_length) ** 2 for e in baseline_evaluations) / (len(baseline_evaluations) - 1) if len(baseline_evaluations) > 1 else 0\n",
    "  baseline_std_dev = math.sqrt(baseline_variance)\n",
    "\n",
    "\n",
    "\n",
    "  print(\"Policy ID:\", policy_id)\n",
    "  print(\"Y axis name:\", yaxis_choice)\n",
    "  print(\"Y axis:\", \"{:,}\".format(num_training_timesteps_or_num_training_fes))\n",
    "  print(\"Y axis (Mean):\", avg_evaluations)\n",
    "  print(\"Y axis (Mean - Stddev):\", avg_evaluations - std_dev)\n",
    "  print(\"Y axis (Mean + Stddev):\", avg_evaluations + std_dev)\n",
    "  print(\"Baseline y axis (Mean):\", baseline_avg_length)\n",
    "  print(\"Baseline y axis (Mean - Stddev):\", baseline_avg_length - baseline_std_dev)\n",
    "  print(\"Baseline y axis (Mean + Stddev):\", baseline_avg_length + baseline_std_dev)\n",
    "  # ================= PRINT END ====================================\n",
    "\n",
    "  conn.close()\n",
    "  fig = go.Figure(data=data, layout=layout)\n",
    "  fig.show()\n",
    "\n",
    "def print_matching(db_folder_path, filter_expression):\n",
    "  configs = load_configs_from_folder(db_folder_path)\n",
    "  matching_db_paths = filter_configs(configs, filter_expression)\n",
    "  for path in matching_db_paths:\n",
    "    print(path)\n",
    "\n",
    "def display_config_as_dataframe(db_path):\n",
    "  try:\n",
    "    with sqlite3.connect(db_path) as conn:\n",
    "      df = pd.read_sql_query(\"SELECT key, value FROM CONFIG\", conn)\n",
    "  except sqlite3.Error as e:\n",
    "    print(f\"SQLite error: {e}\")\n",
    "    return None\n",
    "\n",
    "  def format_value(value):\n",
    "    \"\"\"Format numerical values with commas.\"\"\"\n",
    "    try:\n",
    "      if isinstance(value, (int, float)):\n",
    "        return \"{:,}\".format(value)\n",
    "      if isinstance(value, str):\n",
    "        if value.isdigit():\n",
    "          return \"{:,}\".format(int(value))\n",
    "        # Attempt to convert to float for strings like '123.45'\n",
    "        try:\n",
    "          return \"{:,}\".format(float(value))\n",
    "        except ValueError:\n",
    "          pass\n",
    "    except (ValueError, TypeError):\n",
    "      pass\n",
    "    return value\n",
    "\n",
    "  def unfold_dict(prefix, d, rows):\n",
    "    \"\"\"Recursive function to unfold nested dictionaries.\"\"\"\n",
    "    for key, value in d.items():\n",
    "      new_key = f\"{prefix}__{key}\" if prefix else key\n",
    "      if isinstance(value, dict):\n",
    "        unfold_dict(new_key, value, rows)\n",
    "      else:\n",
    "        formatted_value = format_value(value)\n",
    "        rows.append({'key': new_key, 'value': formatted_value})\n",
    "\n",
    "  # Process each row and unfold nested dictionaries\n",
    "  new_rows = []\n",
    "  for _, row in df.iterrows():\n",
    "    try:\n",
    "      value = ast.literal_eval(row['value'])\n",
    "      if isinstance(value, dict):\n",
    "        unfold_dict(row['key'], value, new_rows)\n",
    "      else:\n",
    "        formatted_value = format_value(value)\n",
    "        new_rows.append({'key': row['key'], 'value': formatted_value})\n",
    "    except (ValueError, SyntaxError):\n",
    "      # Format value if it's a number, keep as is otherwise\n",
    "      formatted_value = format_value(row['value'])\n",
    "      new_rows.append({'key': row['key'], 'value': formatted_value})\n",
    "\n",
    "  # Create a new DataFrame from the processed rows and set 'key' as the index\n",
    "  new_df = pd.DataFrame(new_rows).set_index('key')\n",
    "\n",
    "  return new_df"
   ]
  },
  {
   "cell_type": "code",
   "execution_count": 32,
   "id": "39bb7825",
   "metadata": {},
   "outputs": [
    {
     "name": "stdout",
     "output_type": "stream",
     "text": [
      "../computed/cirrus/underhand.db\n",
      "../computed/cirrus/protector.db\n",
      "../computed/cirrus/glacial.db\n",
      "../computed/cirrus/anytime.db\n",
      "../computed/cirrus/garage.db\n",
      "../computed/cirrus/giggly.db\n",
      "../computed/cirrus/quality.db\n",
      "../computed/cirrus/pediatric.db\n",
      "../computed/cirrus/area.db\n",
      "../computed/cirrus/handshake.db\n",
      "../computed/cirrus/ladle.db\n",
      "../computed/cirrus/pep.db\n",
      "../computed/cirrus/glorified.db\n",
      "../computed/cirrus/primp.db\n",
      "../computed/cirrus/propeller.db\n",
      "../computed/cirrus/disorder.db\n"
     ]
    }
   ],
   "source": [
    "db_folder_path = '../computed/cirrus/'\n",
    "filter_expression = {\n",
    "  \"max_training_timesteps\": \"{} == {}\",\n",
    "  \"ppo\": {\n",
    "    \"n_steps\": \"{} == {}\",\n",
    "    \"policy\": \"{} == {}\",\n",
    "    \"batch_size\": \"{} == 100\",\n",
    "    \"gamma\": \"{} == {}\",\n",
    "    \"gae_lambda\": \"{} <= 0.98\",\n",
    "    \"vf_coef\": \"{} == {}\",\n",
    "    \"net_arch\": [\n",
    "      \"{} == {}\",\n",
    "      \"{} == {}\",\n",
    "    ],\n",
    "    \"learning_rate\": \"{} == {}\",\n",
    "    \"clip_range\": \"{} == {}\",\n",
    "    \"n_epochs\": \"{} == {}\",\n",
    "    \"ent_coef\": \"{} == {}\",\n",
    "  },\n",
    "  \"n\": \"{} >= 40\",\n",
    "  \"num_timesteps_per_evaluation\": \"{} == {}\",\n",
    "  \"reward_type\": \"{} == {}\",\n",
    "  \"num_evaluation_episodes\": \"{} == {}\",\n",
    "  \"action_type\": \"{} == {}\",\n",
    "  \"num_lambdas\": \"{} == {}\",\n",
    "  \"random_seed\": \"{} == {}\",\n",
    "  \"probability_of_closeness_to_optimum\": \"{} == {}\",\n",
    "  \"state_type\": \"{} == {}\",\n",
    "}\n",
    "\n",
    "print_matching(db_folder_path, filter_expression)"
   ]
  },
  {
   "cell_type": "code",
   "execution_count": 33,
   "id": "95e2f60e",
   "metadata": {},
   "outputs": [
    {
     "data": {
      "text/html": [
       "<div>\n",
       "<style scoped>\n",
       "    .dataframe tbody tr th:only-of-type {\n",
       "        vertical-align: middle;\n",
       "    }\n",
       "\n",
       "    .dataframe tbody tr th {\n",
       "        vertical-align: top;\n",
       "    }\n",
       "\n",
       "    .dataframe thead th {\n",
       "        text-align: right;\n",
       "    }\n",
       "</style>\n",
       "<table border=\"1\" class=\"dataframe\">\n",
       "  <thead>\n",
       "    <tr style=\"text-align: right;\">\n",
       "      <th></th>\n",
       "      <th>value</th>\n",
       "    </tr>\n",
       "    <tr>\n",
       "      <th>key</th>\n",
       "      <th></th>\n",
       "    </tr>\n",
       "  </thead>\n",
       "  <tbody>\n",
       "    <tr>\n",
       "      <th>probability_of_closeness_to_optimum</th>\n",
       "      <td>0.95</td>\n",
       "    </tr>\n",
       "    <tr>\n",
       "      <th>max_training_timesteps</th>\n",
       "      <td>1,000,000</td>\n",
       "    </tr>\n",
       "    <tr>\n",
       "      <th>ppo__batch_size</th>\n",
       "      <td>100</td>\n",
       "    </tr>\n",
       "    <tr>\n",
       "      <th>ppo__n_epochs</th>\n",
       "      <td>10</td>\n",
       "    </tr>\n",
       "    <tr>\n",
       "      <th>ppo__clip_range</th>\n",
       "      <td>0.2</td>\n",
       "    </tr>\n",
       "    <tr>\n",
       "      <th>ppo__policy</th>\n",
       "      <td>MlpPolicy</td>\n",
       "    </tr>\n",
       "    <tr>\n",
       "      <th>ppo__gamma</th>\n",
       "      <td>1</td>\n",
       "    </tr>\n",
       "    <tr>\n",
       "      <th>ppo__n_steps</th>\n",
       "      <td>2,000</td>\n",
       "    </tr>\n",
       "    <tr>\n",
       "      <th>ppo__gae_lambda</th>\n",
       "      <td>0.95</td>\n",
       "    </tr>\n",
       "    <tr>\n",
       "      <th>ppo__vf_coef</th>\n",
       "      <td>0.5</td>\n",
       "    </tr>\n",
       "    <tr>\n",
       "      <th>ppo__learning_rate</th>\n",
       "      <td>0.0003</td>\n",
       "    </tr>\n",
       "    <tr>\n",
       "      <th>ppo__net_arch</th>\n",
       "      <td>[50, 50]</td>\n",
       "    </tr>\n",
       "    <tr>\n",
       "      <th>ppo__ent_coef</th>\n",
       "      <td>0.0</td>\n",
       "    </tr>\n",
       "    <tr>\n",
       "      <th>num_timesteps_per_evaluation</th>\n",
       "      <td>1,000</td>\n",
       "    </tr>\n",
       "    <tr>\n",
       "      <th>db_path</th>\n",
       "      <td>computed/data/shadily.db</td>\n",
       "    </tr>\n",
       "    <tr>\n",
       "      <th>random_seed</th>\n",
       "      <td>42</td>\n",
       "    </tr>\n",
       "    <tr>\n",
       "      <th>n</th>\n",
       "      <td>80</td>\n",
       "    </tr>\n",
       "    <tr>\n",
       "      <th>action_type</th>\n",
       "      <td>CONTINUOUS</td>\n",
       "    </tr>\n",
       "    <tr>\n",
       "      <th>num_evaluation_episodes</th>\n",
       "      <td>1,000</td>\n",
       "    </tr>\n",
       "    <tr>\n",
       "      <th>num_lambdas</th>\n",
       "      <td>8</td>\n",
       "    </tr>\n",
       "    <tr>\n",
       "      <th>state_type</th>\n",
       "      <td>SCALAR_ENCODED</td>\n",
       "    </tr>\n",
       "    <tr>\n",
       "      <th>reward_type</th>\n",
       "      <td>ONLY_EVALUATIONS</td>\n",
       "    </tr>\n",
       "  </tbody>\n",
       "</table>\n",
       "</div>"
      ],
      "text/plain": [
       "                                                        value\n",
       "key                                                          \n",
       "probability_of_closeness_to_optimum                      0.95\n",
       "max_training_timesteps                              1,000,000\n",
       "ppo__batch_size                                           100\n",
       "ppo__n_epochs                                              10\n",
       "ppo__clip_range                                           0.2\n",
       "ppo__policy                                         MlpPolicy\n",
       "ppo__gamma                                                  1\n",
       "ppo__n_steps                                            2,000\n",
       "ppo__gae_lambda                                          0.95\n",
       "ppo__vf_coef                                              0.5\n",
       "ppo__learning_rate                                     0.0003\n",
       "ppo__net_arch                                        [50, 50]\n",
       "ppo__ent_coef                                             0.0\n",
       "num_timesteps_per_evaluation                            1,000\n",
       "db_path                              computed/data/shadily.db\n",
       "random_seed                                                42\n",
       "n                                                          80\n",
       "action_type                                        CONTINUOUS\n",
       "num_evaluation_episodes                                 1,000\n",
       "num_lambdas                                                 8\n",
       "state_type                                     SCALAR_ENCODED\n",
       "reward_type                                  ONLY_EVALUATIONS"
      ]
     },
     "execution_count": 33,
     "metadata": {},
     "output_type": "execute_result"
    }
   ],
   "source": [
    "db_path = \"../computed/data/shadily.db\"\n",
    "display_config_as_dataframe(db_path)"
   ]
  },
  {
   "cell_type": "code",
   "execution_count": 37,
   "id": "28ca636e",
   "metadata": {},
   "outputs": [
    {
     "data": {
      "application/vnd.plotly.v1+json": {
       "config": {
        "plotlyServerURL": "https://plot.ly"
       },
       "data": [
        {
         "line": {
          "color": "blue",
          "width": 4
         },
         "mode": "lines+markers",
         "name": "#FEs until optimum",
         "type": "scatter",
         "x": [
          1,
          2,
          3,
          4,
          5,
          6,
          7,
          8,
          9,
          10
         ],
         "y": [
          231.574,
          244.41,
          235.046,
          241.71,
          251.362,
          216.822,
          253.837,
          208.815,
          238.033,
          194.37
         ]
        },
        {
         "line": {
          "color": "rgba(173,216,230,0.2)"
         },
         "mode": "lines",
         "name": "Upper Bound (Mean + Std. Dev.)",
         "type": "scatter",
         "x": [
          1,
          2,
          3,
          4,
          5,
          6,
          7,
          8,
          9,
          10
         ],
         "y": [
          379.6650480886674,
          402.3720077740215,
          386.4142723822928,
          399.5526175023716,
          422.1803800297848,
          349.93108427301274,
          424.26204050461604,
          340.42989571853184,
          389.8157325851,
          307.17904706627036
         ]
        },
        {
         "fill": "tonexty",
         "line": {
          "color": "rgba(173,216,230,0.2)"
         },
         "mode": "lines",
         "name": "Lower Bound (Mean - Std. Dev.)",
         "type": "scatter",
         "x": [
          1,
          2,
          3,
          4,
          5,
          6,
          7,
          8,
          9,
          10
         ],
         "y": [
          83.48295191133263,
          86.44799222597851,
          83.6777276177072,
          83.86738249762843,
          80.54361997021516,
          83.71291572698723,
          83.41195949538397,
          77.20010428146819,
          86.25026741489995,
          81.56095293372967
         ]
        },
        {
         "line": {
          "color": "orange",
          "dash": "dash",
          "width": 2
         },
         "mode": "lines",
         "name": "Theory: √(𝑛/(𝑛 − 𝑓(𝑥)))",
         "type": "scatter",
         "x": [
          1,
          10
         ],
         "y": [
          179.287,
          179.287
         ]
        },
        {
         "line": {
          "color": "rgba(255, 165, 0, 0.2)"
         },
         "mode": "lines",
         "name": "Upper Bound (Baseline Variance)",
         "type": "scatter",
         "x": [
          1,
          2,
          3,
          4,
          5,
          6,
          7,
          8,
          9,
          10
         ],
         "y": [
          283.99985218354243,
          283.99985218354243,
          283.99985218354243,
          283.99985218354243,
          283.99985218354243,
          283.99985218354243,
          283.99985218354243,
          283.99985218354243,
          283.99985218354243,
          283.99985218354243
         ]
        },
        {
         "fill": "tonexty",
         "line": {
          "color": "rgba(255, 165, 0, 0.2)"
         },
         "mode": "lines",
         "name": "Lower Bound (Baseline Variance)",
         "type": "scatter",
         "x": [
          1,
          2,
          3,
          4,
          5,
          6,
          7,
          8,
          9,
          10
         ],
         "y": [
          74.57414781645761,
          74.57414781645761,
          74.57414781645761,
          74.57414781645761,
          74.57414781645761,
          74.57414781645761,
          74.57414781645761,
          74.57414781645761,
          74.57414781645761,
          74.57414781645761
         ]
        }
       ],
       "layout": {
        "font": {
         "color": "RebeccaPurple",
         "family": "Courier New, monospace",
         "size": 18
        },
        "height": 600,
        "margin": {
         "b": 100,
         "l": 50,
         "pad": 4,
         "r": 50,
         "t": 100
        },
        "paper_bgcolor": "rgba(0,0,0,0)",
        "plot_bgcolor": "rgba(245, 245, 245, 1)",
        "showlegend": false,
        "template": {
         "data": {
          "bar": [
           {
            "error_x": {
             "color": "#2a3f5f"
            },
            "error_y": {
             "color": "#2a3f5f"
            },
            "marker": {
             "line": {
              "color": "#E5ECF6",
              "width": 0.5
             },
             "pattern": {
              "fillmode": "overlay",
              "size": 10,
              "solidity": 0.2
             }
            },
            "type": "bar"
           }
          ],
          "barpolar": [
           {
            "marker": {
             "line": {
              "color": "#E5ECF6",
              "width": 0.5
             },
             "pattern": {
              "fillmode": "overlay",
              "size": 10,
              "solidity": 0.2
             }
            },
            "type": "barpolar"
           }
          ],
          "carpet": [
           {
            "aaxis": {
             "endlinecolor": "#2a3f5f",
             "gridcolor": "white",
             "linecolor": "white",
             "minorgridcolor": "white",
             "startlinecolor": "#2a3f5f"
            },
            "baxis": {
             "endlinecolor": "#2a3f5f",
             "gridcolor": "white",
             "linecolor": "white",
             "minorgridcolor": "white",
             "startlinecolor": "#2a3f5f"
            },
            "type": "carpet"
           }
          ],
          "choropleth": [
           {
            "colorbar": {
             "outlinewidth": 0,
             "ticks": ""
            },
            "type": "choropleth"
           }
          ],
          "contour": [
           {
            "colorbar": {
             "outlinewidth": 0,
             "ticks": ""
            },
            "colorscale": [
             [
              0,
              "#0d0887"
             ],
             [
              0.1111111111111111,
              "#46039f"
             ],
             [
              0.2222222222222222,
              "#7201a8"
             ],
             [
              0.3333333333333333,
              "#9c179e"
             ],
             [
              0.4444444444444444,
              "#bd3786"
             ],
             [
              0.5555555555555556,
              "#d8576b"
             ],
             [
              0.6666666666666666,
              "#ed7953"
             ],
             [
              0.7777777777777778,
              "#fb9f3a"
             ],
             [
              0.8888888888888888,
              "#fdca26"
             ],
             [
              1,
              "#f0f921"
             ]
            ],
            "type": "contour"
           }
          ],
          "contourcarpet": [
           {
            "colorbar": {
             "outlinewidth": 0,
             "ticks": ""
            },
            "type": "contourcarpet"
           }
          ],
          "heatmap": [
           {
            "colorbar": {
             "outlinewidth": 0,
             "ticks": ""
            },
            "colorscale": [
             [
              0,
              "#0d0887"
             ],
             [
              0.1111111111111111,
              "#46039f"
             ],
             [
              0.2222222222222222,
              "#7201a8"
             ],
             [
              0.3333333333333333,
              "#9c179e"
             ],
             [
              0.4444444444444444,
              "#bd3786"
             ],
             [
              0.5555555555555556,
              "#d8576b"
             ],
             [
              0.6666666666666666,
              "#ed7953"
             ],
             [
              0.7777777777777778,
              "#fb9f3a"
             ],
             [
              0.8888888888888888,
              "#fdca26"
             ],
             [
              1,
              "#f0f921"
             ]
            ],
            "type": "heatmap"
           }
          ],
          "heatmapgl": [
           {
            "colorbar": {
             "outlinewidth": 0,
             "ticks": ""
            },
            "colorscale": [
             [
              0,
              "#0d0887"
             ],
             [
              0.1111111111111111,
              "#46039f"
             ],
             [
              0.2222222222222222,
              "#7201a8"
             ],
             [
              0.3333333333333333,
              "#9c179e"
             ],
             [
              0.4444444444444444,
              "#bd3786"
             ],
             [
              0.5555555555555556,
              "#d8576b"
             ],
             [
              0.6666666666666666,
              "#ed7953"
             ],
             [
              0.7777777777777778,
              "#fb9f3a"
             ],
             [
              0.8888888888888888,
              "#fdca26"
             ],
             [
              1,
              "#f0f921"
             ]
            ],
            "type": "heatmapgl"
           }
          ],
          "histogram": [
           {
            "marker": {
             "pattern": {
              "fillmode": "overlay",
              "size": 10,
              "solidity": 0.2
             }
            },
            "type": "histogram"
           }
          ],
          "histogram2d": [
           {
            "colorbar": {
             "outlinewidth": 0,
             "ticks": ""
            },
            "colorscale": [
             [
              0,
              "#0d0887"
             ],
             [
              0.1111111111111111,
              "#46039f"
             ],
             [
              0.2222222222222222,
              "#7201a8"
             ],
             [
              0.3333333333333333,
              "#9c179e"
             ],
             [
              0.4444444444444444,
              "#bd3786"
             ],
             [
              0.5555555555555556,
              "#d8576b"
             ],
             [
              0.6666666666666666,
              "#ed7953"
             ],
             [
              0.7777777777777778,
              "#fb9f3a"
             ],
             [
              0.8888888888888888,
              "#fdca26"
             ],
             [
              1,
              "#f0f921"
             ]
            ],
            "type": "histogram2d"
           }
          ],
          "histogram2dcontour": [
           {
            "colorbar": {
             "outlinewidth": 0,
             "ticks": ""
            },
            "colorscale": [
             [
              0,
              "#0d0887"
             ],
             [
              0.1111111111111111,
              "#46039f"
             ],
             [
              0.2222222222222222,
              "#7201a8"
             ],
             [
              0.3333333333333333,
              "#9c179e"
             ],
             [
              0.4444444444444444,
              "#bd3786"
             ],
             [
              0.5555555555555556,
              "#d8576b"
             ],
             [
              0.6666666666666666,
              "#ed7953"
             ],
             [
              0.7777777777777778,
              "#fb9f3a"
             ],
             [
              0.8888888888888888,
              "#fdca26"
             ],
             [
              1,
              "#f0f921"
             ]
            ],
            "type": "histogram2dcontour"
           }
          ],
          "mesh3d": [
           {
            "colorbar": {
             "outlinewidth": 0,
             "ticks": ""
            },
            "type": "mesh3d"
           }
          ],
          "parcoords": [
           {
            "line": {
             "colorbar": {
              "outlinewidth": 0,
              "ticks": ""
             }
            },
            "type": "parcoords"
           }
          ],
          "pie": [
           {
            "automargin": true,
            "type": "pie"
           }
          ],
          "scatter": [
           {
            "fillpattern": {
             "fillmode": "overlay",
             "size": 10,
             "solidity": 0.2
            },
            "type": "scatter"
           }
          ],
          "scatter3d": [
           {
            "line": {
             "colorbar": {
              "outlinewidth": 0,
              "ticks": ""
             }
            },
            "marker": {
             "colorbar": {
              "outlinewidth": 0,
              "ticks": ""
             }
            },
            "type": "scatter3d"
           }
          ],
          "scattercarpet": [
           {
            "marker": {
             "colorbar": {
              "outlinewidth": 0,
              "ticks": ""
             }
            },
            "type": "scattercarpet"
           }
          ],
          "scattergeo": [
           {
            "marker": {
             "colorbar": {
              "outlinewidth": 0,
              "ticks": ""
             }
            },
            "type": "scattergeo"
           }
          ],
          "scattergl": [
           {
            "marker": {
             "colorbar": {
              "outlinewidth": 0,
              "ticks": ""
             }
            },
            "type": "scattergl"
           }
          ],
          "scattermapbox": [
           {
            "marker": {
             "colorbar": {
              "outlinewidth": 0,
              "ticks": ""
             }
            },
            "type": "scattermapbox"
           }
          ],
          "scatterpolar": [
           {
            "marker": {
             "colorbar": {
              "outlinewidth": 0,
              "ticks": ""
             }
            },
            "type": "scatterpolar"
           }
          ],
          "scatterpolargl": [
           {
            "marker": {
             "colorbar": {
              "outlinewidth": 0,
              "ticks": ""
             }
            },
            "type": "scatterpolargl"
           }
          ],
          "scatterternary": [
           {
            "marker": {
             "colorbar": {
              "outlinewidth": 0,
              "ticks": ""
             }
            },
            "type": "scatterternary"
           }
          ],
          "surface": [
           {
            "colorbar": {
             "outlinewidth": 0,
             "ticks": ""
            },
            "colorscale": [
             [
              0,
              "#0d0887"
             ],
             [
              0.1111111111111111,
              "#46039f"
             ],
             [
              0.2222222222222222,
              "#7201a8"
             ],
             [
              0.3333333333333333,
              "#9c179e"
             ],
             [
              0.4444444444444444,
              "#bd3786"
             ],
             [
              0.5555555555555556,
              "#d8576b"
             ],
             [
              0.6666666666666666,
              "#ed7953"
             ],
             [
              0.7777777777777778,
              "#fb9f3a"
             ],
             [
              0.8888888888888888,
              "#fdca26"
             ],
             [
              1,
              "#f0f921"
             ]
            ],
            "type": "surface"
           }
          ],
          "table": [
           {
            "cells": {
             "fill": {
              "color": "#EBF0F8"
             },
             "line": {
              "color": "white"
             }
            },
            "header": {
             "fill": {
              "color": "#C8D4E3"
             },
             "line": {
              "color": "white"
             }
            },
            "type": "table"
           }
          ]
         },
         "layout": {
          "annotationdefaults": {
           "arrowcolor": "#2a3f5f",
           "arrowhead": 0,
           "arrowwidth": 1
          },
          "autotypenumbers": "strict",
          "coloraxis": {
           "colorbar": {
            "outlinewidth": 0,
            "ticks": ""
           }
          },
          "colorscale": {
           "diverging": [
            [
             0,
             "#8e0152"
            ],
            [
             0.1,
             "#c51b7d"
            ],
            [
             0.2,
             "#de77ae"
            ],
            [
             0.3,
             "#f1b6da"
            ],
            [
             0.4,
             "#fde0ef"
            ],
            [
             0.5,
             "#f7f7f7"
            ],
            [
             0.6,
             "#e6f5d0"
            ],
            [
             0.7,
             "#b8e186"
            ],
            [
             0.8,
             "#7fbc41"
            ],
            [
             0.9,
             "#4d9221"
            ],
            [
             1,
             "#276419"
            ]
           ],
           "sequential": [
            [
             0,
             "#0d0887"
            ],
            [
             0.1111111111111111,
             "#46039f"
            ],
            [
             0.2222222222222222,
             "#7201a8"
            ],
            [
             0.3333333333333333,
             "#9c179e"
            ],
            [
             0.4444444444444444,
             "#bd3786"
            ],
            [
             0.5555555555555556,
             "#d8576b"
            ],
            [
             0.6666666666666666,
             "#ed7953"
            ],
            [
             0.7777777777777778,
             "#fb9f3a"
            ],
            [
             0.8888888888888888,
             "#fdca26"
            ],
            [
             1,
             "#f0f921"
            ]
           ],
           "sequentialminus": [
            [
             0,
             "#0d0887"
            ],
            [
             0.1111111111111111,
             "#46039f"
            ],
            [
             0.2222222222222222,
             "#7201a8"
            ],
            [
             0.3333333333333333,
             "#9c179e"
            ],
            [
             0.4444444444444444,
             "#bd3786"
            ],
            [
             0.5555555555555556,
             "#d8576b"
            ],
            [
             0.6666666666666666,
             "#ed7953"
            ],
            [
             0.7777777777777778,
             "#fb9f3a"
            ],
            [
             0.8888888888888888,
             "#fdca26"
            ],
            [
             1,
             "#f0f921"
            ]
           ]
          },
          "colorway": [
           "#636efa",
           "#EF553B",
           "#00cc96",
           "#ab63fa",
           "#FFA15A",
           "#19d3f3",
           "#FF6692",
           "#B6E880",
           "#FF97FF",
           "#FECB52"
          ],
          "font": {
           "color": "#2a3f5f"
          },
          "geo": {
           "bgcolor": "white",
           "lakecolor": "white",
           "landcolor": "#E5ECF6",
           "showlakes": true,
           "showland": true,
           "subunitcolor": "white"
          },
          "hoverlabel": {
           "align": "left"
          },
          "hovermode": "closest",
          "mapbox": {
           "style": "light"
          },
          "paper_bgcolor": "white",
          "plot_bgcolor": "#E5ECF6",
          "polar": {
           "angularaxis": {
            "gridcolor": "white",
            "linecolor": "white",
            "ticks": ""
           },
           "bgcolor": "#E5ECF6",
           "radialaxis": {
            "gridcolor": "white",
            "linecolor": "white",
            "ticks": ""
           }
          },
          "scene": {
           "xaxis": {
            "backgroundcolor": "#E5ECF6",
            "gridcolor": "white",
            "gridwidth": 2,
            "linecolor": "white",
            "showbackground": true,
            "ticks": "",
            "zerolinecolor": "white"
           },
           "yaxis": {
            "backgroundcolor": "#E5ECF6",
            "gridcolor": "white",
            "gridwidth": 2,
            "linecolor": "white",
            "showbackground": true,
            "ticks": "",
            "zerolinecolor": "white"
           },
           "zaxis": {
            "backgroundcolor": "#E5ECF6",
            "gridcolor": "white",
            "gridwidth": 2,
            "linecolor": "white",
            "showbackground": true,
            "ticks": "",
            "zerolinecolor": "white"
           }
          },
          "shapedefaults": {
           "line": {
            "color": "#2a3f5f"
           }
          },
          "ternary": {
           "aaxis": {
            "gridcolor": "white",
            "linecolor": "white",
            "ticks": ""
           },
           "baxis": {
            "gridcolor": "white",
            "linecolor": "white",
            "ticks": ""
           },
           "bgcolor": "#E5ECF6",
           "caxis": {
            "gridcolor": "white",
            "linecolor": "white",
            "ticks": ""
           }
          },
          "title": {
           "x": 0.05
          },
          "xaxis": {
           "automargin": true,
           "gridcolor": "white",
           "linecolor": "white",
           "ticks": "",
           "title": {
            "standoff": 15
           },
           "zerolinecolor": "white",
           "zerolinewidth": 2
          },
          "yaxis": {
           "automargin": true,
           "gridcolor": "white",
           "linecolor": "white",
           "ticks": "",
           "title": {
            "standoff": 15
           },
           "zerolinecolor": "white",
           "zerolinewidth": 2
          }
         }
        },
        "title": {
         "font": {
          "size": 24
         }
        },
        "width": 1100,
        "xaxis": {
         "gridcolor": "lightgrey",
         "gridwidth": 2,
         "tickfont": {
          "size": 14
         },
         "title": {
          "font": {
           "size": 18
          },
          "text": "Num Total Timesteps"
         }
        },
        "yaxis": {
         "gridcolor": "lightgrey",
         "gridwidth": 2,
         "tickfont": {
          "size": 14
         },
         "title": {
          "font": {
           "size": 18
          },
          "text": "#FEs until optimum"
         }
        }
       }
      }
     },
     "metadata": {},
     "output_type": "display_data"
    }
   ],
   "source": [
    "xaxis_choice = \"num_total_timesteps\"\n",
    "yaxis_choice = \"num_function_evaluations\"\n",
    "# yaxis_choice = \"episode_length\"\n",
    "policy_performance(db_path, xaxis_choice, yaxis_choice)"
   ]
  },
  {
   "cell_type": "code",
   "execution_count": 38,
   "id": "dcf3cc71",
   "metadata": {},
   "outputs": [
    {
     "name": "stdout",
     "output_type": "stream",
     "text": [
      "Policy ID: 10\n",
      "Y axis name: num_function_evaluations\n",
      "Y axis: 10\n",
      "Y axis (Mean): 194.37\n",
      "Y axis (Mean - Stddev): 81.56095293372967\n",
      "Y axis (Mean + Stddev): 307.17904706627036\n",
      "Baseline y axis (Mean): 179.287\n",
      "Baseline y axis (Mean - Stddev): 74.57414781645761\n",
      "Baseline y axis (Mean + Stddev): 283.99985218354243\n"
     ]
    },
    {
     "data": {
      "application/vnd.plotly.v1+json": {
       "config": {
        "plotlyServerURL": "https://plot.ly"
       },
       "data": [
        {
         "line": {
          "color": "orange",
          "width": 4
         },
         "mode": "lines+markers",
         "name": "Baseline Fitness-Lambda",
         "type": "scatter",
         "x": [
          0,
          1,
          2,
          3,
          4,
          5,
          6,
          7,
          8,
          9,
          10,
          11,
          12,
          13,
          14,
          15,
          16,
          17,
          18,
          19,
          20,
          21,
          22,
          23,
          24,
          25,
          26,
          27,
          28,
          29,
          30,
          31,
          32,
          33,
          34,
          35,
          36,
          37,
          38,
          39,
          40,
          41,
          42,
          43,
          44,
          45,
          46,
          47,
          48,
          49,
          50,
          51,
          52,
          53,
          54,
          55,
          56,
          57,
          58,
          59,
          60,
          61,
          62,
          63,
          64,
          65,
          66,
          67,
          68,
          69,
          70,
          71,
          72,
          73,
          74,
          75,
          76,
          77,
          78,
          79
         ],
         "y": [
          1,
          1,
          1,
          1,
          1,
          1,
          1,
          1,
          1,
          1,
          1,
          1,
          1,
          1,
          1,
          1,
          1,
          1,
          1,
          1,
          1,
          1,
          1,
          1,
          1,
          1,
          1,
          1,
          1,
          1,
          1,
          1,
          1,
          1,
          1,
          1,
          1,
          1,
          1,
          1,
          1,
          1,
          1,
          1,
          1,
          1,
          1,
          1,
          1,
          1,
          1,
          1,
          1,
          1,
          1,
          1,
          1,
          1,
          1,
          1,
          2,
          2,
          2,
          2,
          2,
          2,
          2,
          2,
          2,
          2,
          2,
          2,
          3,
          3,
          3,
          4,
          4,
          5,
          6,
          8
         ]
        },
        {
         "line": {
          "color": "blue",
          "width": 4
         },
         "mode": "lines+markers",
         "name": "Fitness-Lambda Policy 10",
         "type": "scatter",
         "x": [
          0,
          1,
          2,
          3,
          4,
          5,
          6,
          7,
          8,
          9,
          10,
          11,
          12,
          13,
          14,
          15,
          16,
          17,
          18,
          19,
          20,
          21,
          22,
          23,
          24,
          25,
          26,
          27,
          28,
          29,
          30,
          31,
          32,
          33,
          34,
          35,
          36,
          37,
          38,
          39,
          40,
          41,
          42,
          43,
          44,
          45,
          46,
          47,
          48,
          49,
          50,
          51,
          52,
          53,
          54,
          55,
          56,
          57,
          58,
          59,
          60,
          61,
          62,
          63,
          64,
          65,
          66,
          67,
          68,
          69,
          70,
          71,
          72,
          73,
          74,
          75,
          76,
          77,
          78,
          79
         ],
         "y": [
          5,
          1,
          6,
          7,
          8,
          6,
          5,
          5,
          3,
          5,
          5,
          4,
          2,
          4,
          3,
          5,
          2,
          1,
          8,
          1,
          3,
          8,
          8,
          4,
          5,
          1,
          6,
          5,
          1,
          2,
          4,
          4,
          8,
          1,
          3,
          1,
          1,
          7,
          1,
          5,
          5,
          2,
          4,
          3,
          6,
          8,
          1,
          8,
          3,
          8,
          3,
          8,
          2,
          6,
          8,
          8,
          3,
          4,
          5,
          6,
          2,
          1,
          1,
          8,
          8,
          1,
          6,
          6,
          1,
          4,
          3,
          8,
          1,
          3,
          8,
          3,
          8,
          1,
          7,
          6
         ]
        }
       ],
       "layout": {
        "font": {
         "color": "RebeccaPurple",
         "family": "Courier New, monospace",
         "size": 18
        },
        "paper_bgcolor": "rgba(0,0,0,0)",
        "plot_bgcolor": "rgba(245, 245, 245, 1)",
        "template": {
         "data": {
          "bar": [
           {
            "error_x": {
             "color": "#2a3f5f"
            },
            "error_y": {
             "color": "#2a3f5f"
            },
            "marker": {
             "line": {
              "color": "#E5ECF6",
              "width": 0.5
             },
             "pattern": {
              "fillmode": "overlay",
              "size": 10,
              "solidity": 0.2
             }
            },
            "type": "bar"
           }
          ],
          "barpolar": [
           {
            "marker": {
             "line": {
              "color": "#E5ECF6",
              "width": 0.5
             },
             "pattern": {
              "fillmode": "overlay",
              "size": 10,
              "solidity": 0.2
             }
            },
            "type": "barpolar"
           }
          ],
          "carpet": [
           {
            "aaxis": {
             "endlinecolor": "#2a3f5f",
             "gridcolor": "white",
             "linecolor": "white",
             "minorgridcolor": "white",
             "startlinecolor": "#2a3f5f"
            },
            "baxis": {
             "endlinecolor": "#2a3f5f",
             "gridcolor": "white",
             "linecolor": "white",
             "minorgridcolor": "white",
             "startlinecolor": "#2a3f5f"
            },
            "type": "carpet"
           }
          ],
          "choropleth": [
           {
            "colorbar": {
             "outlinewidth": 0,
             "ticks": ""
            },
            "type": "choropleth"
           }
          ],
          "contour": [
           {
            "colorbar": {
             "outlinewidth": 0,
             "ticks": ""
            },
            "colorscale": [
             [
              0,
              "#0d0887"
             ],
             [
              0.1111111111111111,
              "#46039f"
             ],
             [
              0.2222222222222222,
              "#7201a8"
             ],
             [
              0.3333333333333333,
              "#9c179e"
             ],
             [
              0.4444444444444444,
              "#bd3786"
             ],
             [
              0.5555555555555556,
              "#d8576b"
             ],
             [
              0.6666666666666666,
              "#ed7953"
             ],
             [
              0.7777777777777778,
              "#fb9f3a"
             ],
             [
              0.8888888888888888,
              "#fdca26"
             ],
             [
              1,
              "#f0f921"
             ]
            ],
            "type": "contour"
           }
          ],
          "contourcarpet": [
           {
            "colorbar": {
             "outlinewidth": 0,
             "ticks": ""
            },
            "type": "contourcarpet"
           }
          ],
          "heatmap": [
           {
            "colorbar": {
             "outlinewidth": 0,
             "ticks": ""
            },
            "colorscale": [
             [
              0,
              "#0d0887"
             ],
             [
              0.1111111111111111,
              "#46039f"
             ],
             [
              0.2222222222222222,
              "#7201a8"
             ],
             [
              0.3333333333333333,
              "#9c179e"
             ],
             [
              0.4444444444444444,
              "#bd3786"
             ],
             [
              0.5555555555555556,
              "#d8576b"
             ],
             [
              0.6666666666666666,
              "#ed7953"
             ],
             [
              0.7777777777777778,
              "#fb9f3a"
             ],
             [
              0.8888888888888888,
              "#fdca26"
             ],
             [
              1,
              "#f0f921"
             ]
            ],
            "type": "heatmap"
           }
          ],
          "heatmapgl": [
           {
            "colorbar": {
             "outlinewidth": 0,
             "ticks": ""
            },
            "colorscale": [
             [
              0,
              "#0d0887"
             ],
             [
              0.1111111111111111,
              "#46039f"
             ],
             [
              0.2222222222222222,
              "#7201a8"
             ],
             [
              0.3333333333333333,
              "#9c179e"
             ],
             [
              0.4444444444444444,
              "#bd3786"
             ],
             [
              0.5555555555555556,
              "#d8576b"
             ],
             [
              0.6666666666666666,
              "#ed7953"
             ],
             [
              0.7777777777777778,
              "#fb9f3a"
             ],
             [
              0.8888888888888888,
              "#fdca26"
             ],
             [
              1,
              "#f0f921"
             ]
            ],
            "type": "heatmapgl"
           }
          ],
          "histogram": [
           {
            "marker": {
             "pattern": {
              "fillmode": "overlay",
              "size": 10,
              "solidity": 0.2
             }
            },
            "type": "histogram"
           }
          ],
          "histogram2d": [
           {
            "colorbar": {
             "outlinewidth": 0,
             "ticks": ""
            },
            "colorscale": [
             [
              0,
              "#0d0887"
             ],
             [
              0.1111111111111111,
              "#46039f"
             ],
             [
              0.2222222222222222,
              "#7201a8"
             ],
             [
              0.3333333333333333,
              "#9c179e"
             ],
             [
              0.4444444444444444,
              "#bd3786"
             ],
             [
              0.5555555555555556,
              "#d8576b"
             ],
             [
              0.6666666666666666,
              "#ed7953"
             ],
             [
              0.7777777777777778,
              "#fb9f3a"
             ],
             [
              0.8888888888888888,
              "#fdca26"
             ],
             [
              1,
              "#f0f921"
             ]
            ],
            "type": "histogram2d"
           }
          ],
          "histogram2dcontour": [
           {
            "colorbar": {
             "outlinewidth": 0,
             "ticks": ""
            },
            "colorscale": [
             [
              0,
              "#0d0887"
             ],
             [
              0.1111111111111111,
              "#46039f"
             ],
             [
              0.2222222222222222,
              "#7201a8"
             ],
             [
              0.3333333333333333,
              "#9c179e"
             ],
             [
              0.4444444444444444,
              "#bd3786"
             ],
             [
              0.5555555555555556,
              "#d8576b"
             ],
             [
              0.6666666666666666,
              "#ed7953"
             ],
             [
              0.7777777777777778,
              "#fb9f3a"
             ],
             [
              0.8888888888888888,
              "#fdca26"
             ],
             [
              1,
              "#f0f921"
             ]
            ],
            "type": "histogram2dcontour"
           }
          ],
          "mesh3d": [
           {
            "colorbar": {
             "outlinewidth": 0,
             "ticks": ""
            },
            "type": "mesh3d"
           }
          ],
          "parcoords": [
           {
            "line": {
             "colorbar": {
              "outlinewidth": 0,
              "ticks": ""
             }
            },
            "type": "parcoords"
           }
          ],
          "pie": [
           {
            "automargin": true,
            "type": "pie"
           }
          ],
          "scatter": [
           {
            "fillpattern": {
             "fillmode": "overlay",
             "size": 10,
             "solidity": 0.2
            },
            "type": "scatter"
           }
          ],
          "scatter3d": [
           {
            "line": {
             "colorbar": {
              "outlinewidth": 0,
              "ticks": ""
             }
            },
            "marker": {
             "colorbar": {
              "outlinewidth": 0,
              "ticks": ""
             }
            },
            "type": "scatter3d"
           }
          ],
          "scattercarpet": [
           {
            "marker": {
             "colorbar": {
              "outlinewidth": 0,
              "ticks": ""
             }
            },
            "type": "scattercarpet"
           }
          ],
          "scattergeo": [
           {
            "marker": {
             "colorbar": {
              "outlinewidth": 0,
              "ticks": ""
             }
            },
            "type": "scattergeo"
           }
          ],
          "scattergl": [
           {
            "marker": {
             "colorbar": {
              "outlinewidth": 0,
              "ticks": ""
             }
            },
            "type": "scattergl"
           }
          ],
          "scattermapbox": [
           {
            "marker": {
             "colorbar": {
              "outlinewidth": 0,
              "ticks": ""
             }
            },
            "type": "scattermapbox"
           }
          ],
          "scatterpolar": [
           {
            "marker": {
             "colorbar": {
              "outlinewidth": 0,
              "ticks": ""
             }
            },
            "type": "scatterpolar"
           }
          ],
          "scatterpolargl": [
           {
            "marker": {
             "colorbar": {
              "outlinewidth": 0,
              "ticks": ""
             }
            },
            "type": "scatterpolargl"
           }
          ],
          "scatterternary": [
           {
            "marker": {
             "colorbar": {
              "outlinewidth": 0,
              "ticks": ""
             }
            },
            "type": "scatterternary"
           }
          ],
          "surface": [
           {
            "colorbar": {
             "outlinewidth": 0,
             "ticks": ""
            },
            "colorscale": [
             [
              0,
              "#0d0887"
             ],
             [
              0.1111111111111111,
              "#46039f"
             ],
             [
              0.2222222222222222,
              "#7201a8"
             ],
             [
              0.3333333333333333,
              "#9c179e"
             ],
             [
              0.4444444444444444,
              "#bd3786"
             ],
             [
              0.5555555555555556,
              "#d8576b"
             ],
             [
              0.6666666666666666,
              "#ed7953"
             ],
             [
              0.7777777777777778,
              "#fb9f3a"
             ],
             [
              0.8888888888888888,
              "#fdca26"
             ],
             [
              1,
              "#f0f921"
             ]
            ],
            "type": "surface"
           }
          ],
          "table": [
           {
            "cells": {
             "fill": {
              "color": "#EBF0F8"
             },
             "line": {
              "color": "white"
             }
            },
            "header": {
             "fill": {
              "color": "#C8D4E3"
             },
             "line": {
              "color": "white"
             }
            },
            "type": "table"
           }
          ]
         },
         "layout": {
          "annotationdefaults": {
           "arrowcolor": "#2a3f5f",
           "arrowhead": 0,
           "arrowwidth": 1
          },
          "autotypenumbers": "strict",
          "coloraxis": {
           "colorbar": {
            "outlinewidth": 0,
            "ticks": ""
           }
          },
          "colorscale": {
           "diverging": [
            [
             0,
             "#8e0152"
            ],
            [
             0.1,
             "#c51b7d"
            ],
            [
             0.2,
             "#de77ae"
            ],
            [
             0.3,
             "#f1b6da"
            ],
            [
             0.4,
             "#fde0ef"
            ],
            [
             0.5,
             "#f7f7f7"
            ],
            [
             0.6,
             "#e6f5d0"
            ],
            [
             0.7,
             "#b8e186"
            ],
            [
             0.8,
             "#7fbc41"
            ],
            [
             0.9,
             "#4d9221"
            ],
            [
             1,
             "#276419"
            ]
           ],
           "sequential": [
            [
             0,
             "#0d0887"
            ],
            [
             0.1111111111111111,
             "#46039f"
            ],
            [
             0.2222222222222222,
             "#7201a8"
            ],
            [
             0.3333333333333333,
             "#9c179e"
            ],
            [
             0.4444444444444444,
             "#bd3786"
            ],
            [
             0.5555555555555556,
             "#d8576b"
            ],
            [
             0.6666666666666666,
             "#ed7953"
            ],
            [
             0.7777777777777778,
             "#fb9f3a"
            ],
            [
             0.8888888888888888,
             "#fdca26"
            ],
            [
             1,
             "#f0f921"
            ]
           ],
           "sequentialminus": [
            [
             0,
             "#0d0887"
            ],
            [
             0.1111111111111111,
             "#46039f"
            ],
            [
             0.2222222222222222,
             "#7201a8"
            ],
            [
             0.3333333333333333,
             "#9c179e"
            ],
            [
             0.4444444444444444,
             "#bd3786"
            ],
            [
             0.5555555555555556,
             "#d8576b"
            ],
            [
             0.6666666666666666,
             "#ed7953"
            ],
            [
             0.7777777777777778,
             "#fb9f3a"
            ],
            [
             0.8888888888888888,
             "#fdca26"
            ],
            [
             1,
             "#f0f921"
            ]
           ]
          },
          "colorway": [
           "#636efa",
           "#EF553B",
           "#00cc96",
           "#ab63fa",
           "#FFA15A",
           "#19d3f3",
           "#FF6692",
           "#B6E880",
           "#FF97FF",
           "#FECB52"
          ],
          "font": {
           "color": "#2a3f5f"
          },
          "geo": {
           "bgcolor": "white",
           "lakecolor": "white",
           "landcolor": "#E5ECF6",
           "showlakes": true,
           "showland": true,
           "subunitcolor": "white"
          },
          "hoverlabel": {
           "align": "left"
          },
          "hovermode": "closest",
          "mapbox": {
           "style": "light"
          },
          "paper_bgcolor": "white",
          "plot_bgcolor": "#E5ECF6",
          "polar": {
           "angularaxis": {
            "gridcolor": "white",
            "linecolor": "white",
            "ticks": ""
           },
           "bgcolor": "#E5ECF6",
           "radialaxis": {
            "gridcolor": "white",
            "linecolor": "white",
            "ticks": ""
           }
          },
          "scene": {
           "xaxis": {
            "backgroundcolor": "#E5ECF6",
            "gridcolor": "white",
            "gridwidth": 2,
            "linecolor": "white",
            "showbackground": true,
            "ticks": "",
            "zerolinecolor": "white"
           },
           "yaxis": {
            "backgroundcolor": "#E5ECF6",
            "gridcolor": "white",
            "gridwidth": 2,
            "linecolor": "white",
            "showbackground": true,
            "ticks": "",
            "zerolinecolor": "white"
           },
           "zaxis": {
            "backgroundcolor": "#E5ECF6",
            "gridcolor": "white",
            "gridwidth": 2,
            "linecolor": "white",
            "showbackground": true,
            "ticks": "",
            "zerolinecolor": "white"
           }
          },
          "shapedefaults": {
           "line": {
            "color": "#2a3f5f"
           }
          },
          "ternary": {
           "aaxis": {
            "gridcolor": "white",
            "linecolor": "white",
            "ticks": ""
           },
           "baxis": {
            "gridcolor": "white",
            "linecolor": "white",
            "ticks": ""
           },
           "bgcolor": "#E5ECF6",
           "caxis": {
            "gridcolor": "white",
            "linecolor": "white",
            "ticks": ""
           }
          },
          "title": {
           "x": 0.05
          },
          "xaxis": {
           "automargin": true,
           "gridcolor": "white",
           "linecolor": "white",
           "ticks": "",
           "title": {
            "standoff": 15
           },
           "zerolinecolor": "white",
           "zerolinewidth": 2
          },
          "yaxis": {
           "automargin": true,
           "gridcolor": "white",
           "linecolor": "white",
           "ticks": "",
           "title": {
            "standoff": 15
           },
           "zerolinecolor": "white",
           "zerolinewidth": 2
          }
         }
        },
        "title": {
         "text": "Fitness-Lambda Assignment for Policy 10"
        },
        "xaxis": {
         "title": {
          "text": "Fitness"
         }
        },
        "yaxis": {
         "title": {
          "text": "Lambda"
         }
        }
       }
      }
     },
     "metadata": {},
     "output_type": "display_data"
    }
   ],
   "source": [
    "policy_total_timesteps = 10\n",
    "generate_fitness_lambda_plot(db_path, policy_total_timesteps, yaxis_choice)"
   ]
  },
  {
   "cell_type": "code",
   "execution_count": null,
   "id": "451ff385",
   "metadata": {},
   "outputs": [],
   "source": []
  }
 ],
 "metadata": {
  "language_info": {
   "name": "python"
  }
 },
 "nbformat": 4,
 "nbformat_minor": 5
}
