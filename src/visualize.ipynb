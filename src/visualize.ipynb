{
 "cells": [
  {
   "cell_type": "code",
   "execution_count": 5,
   "id": "e32d57ed-2296-41b6-aba3-5256dd2a13fb",
   "metadata": {},
   "outputs": [],
   "source": [
    "import ast\n",
    "import inspectify\n",
    "import os\n",
    "import math\n",
    "import plotly.graph_objs as go\n",
    "import sqlite3\n",
    "import math\n",
    "import plotly.graph_objs as go\n",
    "\n",
    "def load_config_data(db_path):\n",
    "    loaded_config = {}\n",
    "    try:\n",
    "        with sqlite3.connect(db_path) as conn:\n",
    "            cursor = conn.cursor()\n",
    "            cursor.execute(\"SELECT key, value FROM CONFIG\")\n",
    "            rows = cursor.fetchall()\n",
    "\n",
    "        # Process each row to infer the type and construct a nested dictionary\n",
    "        for key, value in rows:\n",
    "            # Infer the type\n",
    "            if value.isdigit():\n",
    "                parsed_value = int(value)\n",
    "            elif all(char.isdigit() or char == '.' for char in value):\n",
    "                try:\n",
    "                    parsed_value = float(value)\n",
    "                except ValueError:\n",
    "                    parsed_value = value\n",
    "            elif value.startswith('{') and value.endswith('}'):\n",
    "                try:\n",
    "                    # Attempt to parse as a dictionary\n",
    "                    parsed_value = ast.literal_eval(value)\n",
    "                except (ValueError, SyntaxError):\n",
    "                    # If parsing fails, keep the original value\n",
    "                    parsed_value = value\n",
    "            else:\n",
    "                parsed_value = value\n",
    "\n",
    "            # Create nested dictionaries based on key structure\n",
    "            key_parts = key.split('__')\n",
    "            d = loaded_config\n",
    "            for part in key_parts[:-1]:\n",
    "                if part not in d:\n",
    "                    d[part] = {}\n",
    "                d = d[part]\n",
    "            d[key_parts[-1]] = parsed_value\n",
    "    except sqlite3.Error:\n",
    "        # If the CONFIG table doesn't exist or any other SQL error occurs\n",
    "        loaded_config = {}\n",
    "\n",
    "    return loaded_config\n",
    "\n",
    "def load_configs_from_folder(folder_path):\n",
    "    configs = []\n",
    "    for file in os.listdir(folder_path):\n",
    "        if file.endswith(\".db\"):\n",
    "            db_path = os.path.join(folder_path, file)\n",
    "            config = load_config_data(db_path)\n",
    "            config['db_path'] = db_path\n",
    "            configs.append(config)\n",
    "    return configs\n",
    "\n",
    "def format_value_for_expression(value):\n",
    "    if isinstance(value, str):\n",
    "        # Add quotes around strings\n",
    "        return f\"\\\"{value}\\\"\"\n",
    "    return value\n",
    "\n",
    "def match_config_with_filter(config, filter_expr):\n",
    "    for key, value in filter_expr.items():\n",
    "        if isinstance(value, dict):\n",
    "            # Recursive call for nested dictionaries\n",
    "            if key not in config or not match_config_with_filter(config[key], value):\n",
    "                return False\n",
    "        elif isinstance(value, list):\n",
    "            # Handle lists of expressions\n",
    "            for i, expr in enumerate(value):\n",
    "                if i >= len(config.get(key, [])):\n",
    "                    return False\n",
    "                config_value = format_value_for_expression(config[key][i])\n",
    "                expression = expr.replace(\"{}\", str(config_value))\n",
    "                condition = eval(expression)\n",
    "                assert type(condition) == bool, f\"Filter {key}:{expression} must express a bool.\"\n",
    "                if not condition:\n",
    "                    return False\n",
    "        else:\n",
    "            # Handle individual expressions\n",
    "            config_value = format_value_for_expression(config.get(key))\n",
    "            expression = value.replace(\"{}\", str(config_value))\n",
    "            condition = eval(expression)\n",
    "            assert type(condition) == bool, f\"Filter {key}:{expression} must express a bool.\"\n",
    "            if not condition:\n",
    "                return False\n",
    "    return True\n",
    "\n",
    "def filter_configs(configs, filter_expr):\n",
    "    matching_db_paths = []\n",
    "    for config in configs:\n",
    "        if match_config_with_filter(config, filter_expr):\n",
    "            matching_db_paths.append(config.get('db_path'))\n",
    "    return matching_db_paths\n",
    "\n",
    "def load_policy_performance_data(db_path, xaxis_choice):\n",
    "    conn = sqlite3.connect(db_path)\n",
    "    cursor = conn.cursor()\n",
    "\n",
    "    # Execute SQL query based on x-axis choice\n",
    "    cursor.execute(f'SELECT policy_id, {xaxis_choice} FROM CONSTRUCTED_POLICIES WHERE policy_id >= 1')\n",
    "    training_data = cursor.fetchall()\n",
    "\n",
    "    try:\n",
    "        cursor.execute('SELECT policy_id, num_training_episodes, num_total_function_evaluations, num_total_timesteps FROM CONSTRUCTED_POLICIES WHERE policy_id >= 1')\n",
    "        rows = cursor.fetchall()\n",
    "        policy_id_to_x_values = {policy_id: {column_name: value for column_name, value in zip(['num_training_episodes', 'num_total_function_evaluations', 'num_total_timesteps'], row)}\n",
    "                                 for policy_id, *row in rows}\n",
    "    except sqlite3.OperationalError:\n",
    "        cursor.execute('SELECT policy_id, num_training_episodes FROM CONSTRUCTED_POLICIES WHERE policy_id >= 1')\n",
    "        rows = cursor.fetchall()\n",
    "        policy_id_to_x_values = {policy_id: {'num_training_episodes': num_training_episodes}\n",
    "                                 for policy_id, num_training_episodes in rows}\n",
    "\n",
    "    avg_function_evaluations, std_dev_evaluations = [], []\n",
    "    for policy_id, _ in training_data:\n",
    "        cursor.execute('SELECT num_function_evaluations FROM EVALUATION_EPISODES WHERE policy_id = ?', (policy_id,))\n",
    "        evaluations = [e[0] for e in cursor.fetchall()]\n",
    "        num_evaluation_episodes = len(evaluations)  # Assuming number of episodes is length of evaluations\n",
    "\n",
    "        avg_evaluations = sum(evaluations) / len(evaluations) if evaluations else None\n",
    "        std_dev = math.sqrt(sum((e - avg_evaluations) ** 2 for e in evaluations) / len(evaluations)) if evaluations else 0\n",
    "        avg_function_evaluations.append(avg_evaluations if avg_evaluations is not None else 0)\n",
    "        std_dev_evaluations.append(std_dev)\n",
    "\n",
    "    policy_ids, num_episodes = zip(*training_data) if training_data else ([], [])\n",
    "\n",
    "    cursor.execute('SELECT AVG(num_function_evaluations) FROM EVALUATION_EPISODES WHERE policy_id = -1')\n",
    "    baseline_avg_length = 0\n",
    "\n",
    "    cursor.execute('SELECT num_function_evaluations FROM EVALUATION_EPISODES WHERE policy_id = -1')\n",
    "    baseline_evaluations = [e[0] for e in cursor.fetchall()]\n",
    "    baseline_variance = sum((e - baseline_avg_length) ** 2 for e in baseline_evaluations) / (len(baseline_evaluations) - 1) if len(baseline_evaluations) > 1 else 0\n",
    "    baseline_std_dev = math.sqrt(baseline_variance)\n",
    "\n",
    "    baseline_upper_bound = [baseline_avg_length + baseline_std_dev] * len(num_episodes)\n",
    "    baseline_lower_bound = [baseline_avg_length - baseline_std_dev] * len(num_episodes)\n",
    "\n",
    "    data = [\n",
    "        go.Scatter(x=num_episodes, y=avg_function_evaluations, mode='lines+markers', name='#FEs until optimum', line=dict(color='blue', width=4)),\n",
    "        go.Scatter(x=num_episodes, y=[avg + std for avg, std in zip(avg_function_evaluations, std_dev_evaluations)], mode='lines', line=dict(color='rgba(173,216,230,0.2)'), name='Upper Bound (Mean + Std. Dev.)'),\n",
    "        go.Scatter(x=num_episodes, y=[avg - std for avg, std in zip(avg_function_evaluations, std_dev_evaluations)], mode='lines', fill='tonexty', line=dict(color='rgba(173,216,230,0.2)'), name='Lower Bound (Mean - Std. Dev.)'),\n",
    "        go.Scatter(x=[min(num_episodes), max(num_episodes)] if num_episodes else [0], y=[baseline_avg_length, baseline_avg_length], mode='lines', name='Theory: √(𝑛/(𝑛 − 𝑓(𝑥)))', line=dict(color='orange', width=2, dash='dash')),\n",
    "        go.Scatter(x=num_episodes, y=baseline_upper_bound, mode='lines', line=dict(color='rgba(255, 165, 0, 0.2)'), name='Upper Bound (Baseline Variance)'),\n",
    "        go.Scatter(x=num_episodes, y=baseline_lower_bound, mode='lines', fill='tonexty', line=dict(color='rgba(255, 165, 0, 0.2)'), name='Lower Bound (Baseline Variance)'),\n",
    "    ]\n",
    "\n",
    "    conn.close()\n",
    "    return data\n",
    "\n",
    "def policy_performance(db_path, xaxis_choice):\n",
    "    data = load_policy_performance_data(db_path, xaxis_choice)\n",
    "    # Define the layout with larger dimensions and enhanced appearance\n",
    "    layout = go.Layout(\n",
    "        titlefont=dict(size=24),  # Bigger title font size\n",
    "        xaxis=dict(\n",
    "            title=xaxis_choice.replace('_', ' ').title(),\n",
    "            titlefont=dict(size=18),  # Bigger axis title font size\n",
    "            tickfont=dict(size=14),  # Bigger tick labels font size\n",
    "            gridcolor='lightgrey',  # Grid color\n",
    "            gridwidth=2,  # Grid line width\n",
    "        ),\n",
    "        yaxis=dict(\n",
    "            title='#FEs until optimum',\n",
    "            titlefont=dict(size=18),  # Bigger axis title font size\n",
    "            tickfont=dict(size=14),  # Bigger tick labels font size\n",
    "            gridcolor='lightgrey',  # Grid color\n",
    "            gridwidth=2,  # Grid line width\n",
    "        ),\n",
    "        font=dict(family='Courier New, monospace', size=18, color='RebeccaPurple'),\n",
    "        paper_bgcolor='rgba(0,0,0,0)',\n",
    "        plot_bgcolor='rgba(245, 245, 245, 1)',\n",
    "        width=1100,  # Width of the figure\n",
    "        height=600,  # Height of the figure\n",
    "        margin=dict(l=50, r=50, b=100, t=100, pad=4),  # Margins to prevent cutoff\n",
    "        showlegend=False,  # This will remove the legend\n",
    "    )\n",
    "\n",
    "    fig = go.Figure(data=data, layout=layout)\n",
    "    fig.show()\n",
    "\n",
    "def get_policy_id_for_timesteps(db_path, total_timesteps):\n",
    "  try:\n",
    "    with sqlite3.connect(db_path) as conn:\n",
    "      cursor = conn.cursor()\n",
    "      # SQL query to fetch policy_id based on the total timesteps\n",
    "      cursor.execute('SELECT policy_id FROM CONSTRUCTED_POLICIES WHERE num_total_timesteps = ?', (total_timesteps,))\n",
    "      result = cursor.fetchone()\n",
    "      return result[0] if result else None\n",
    "  except sqlite3.Error as e:\n",
    "    print(f\"SQLite error: {e}\")\n",
    "    return None\n",
    "\n",
    "def generate_fitness_lambda_plot(db_path, policy_total_timesteps):\n",
    "\n",
    "    policy_id = get_policy_id_for_timesteps(db_path, policy_total_timesteps)\n",
    "    \n",
    "    conn = sqlite3.connect(db_path)\n",
    "    cursor = conn.cursor()\n",
    "\n",
    "    # Fetch baseline fitness-lambda data (policy_id = -1)\n",
    "    cursor.execute('SELECT fitness, lambda_minus_one FROM POLICY_DETAILS WHERE policy_id = -1')\n",
    "    baseline_fitness_lambda_data = cursor.fetchall()\n",
    "\n",
    "    baseline_curve = go.Scatter(\n",
    "        x=[d[0] for d in baseline_fitness_lambda_data],\n",
    "        y=[d[1] + 1 for d in baseline_fitness_lambda_data],\n",
    "        mode='lines+markers',\n",
    "        name='Baseline Fitness-Lambda',\n",
    "        line=dict(color='orange', width=4)\n",
    "    )\n",
    "\n",
    "    # Fetch mean and variance of initial fitness for the specified policy\n",
    "    cursor.execute('SELECT mean_initial_fitness, variance_initial_fitness FROM CONSTRUCTED_POLICIES WHERE policy_id = ?', (policy_id,))\n",
    "    fitness_stats = cursor.fetchone()\n",
    "    mean_initial_fitness = std_dev_initial_fitness = None\n",
    "    if fitness_stats and fitness_stats[0]:\n",
    "        mean_initial_fitness = fitness_stats[0]\n",
    "        variance_initial_fitness = fitness_stats[1]\n",
    "        std_dev_initial_fitness = math.sqrt(variance_initial_fitness)\n",
    "\n",
    "    # Fetch fitness-lambda data for the specified policy\n",
    "    cursor.execute('SELECT fitness, lambda_minus_one FROM POLICY_DETAILS WHERE policy_id = ?', (policy_id,))\n",
    "    fitness_lambda_data = cursor.fetchall()\n",
    "\n",
    "    selected_policy_curve = go.Scatter(\n",
    "        x=[d[0] for d in fitness_lambda_data],\n",
    "        y=[d[1] + 1 for d in fitness_lambda_data],\n",
    "        mode='lines+markers',\n",
    "        name=f'Fitness-Lambda Policy {policy_id}',\n",
    "        line=dict(color='blue', width=4)\n",
    "    )\n",
    "\n",
    "    data = [baseline_curve, selected_policy_curve]\n",
    "\n",
    "    # Adding shaded area for variance if available\n",
    "    if mean_initial_fitness is not None:\n",
    "        upper_bound = go.Scatter(\n",
    "            x=[mean_initial_fitness + std_dev_initial_fitness] * 2,\n",
    "            y=[0, max([d[1] + 1 for d in fitness_lambda_data])],\n",
    "            mode='lines',\n",
    "            line=dict(width=0),\n",
    "            showlegend=False\n",
    "        )\n",
    "        lower_bound = go.Scatter(\n",
    "            x=[mean_initial_fitness - std_dev_initial_fitness] * 2,\n",
    "            y=[0, max([d[1] + 1 for d in fitness_lambda_data])],\n",
    "            mode='lines',\n",
    "            fill='tonexty',\n",
    "            fillcolor='rgba(0, 255, 0, 0.2)',\n",
    "            line=dict(width=0),\n",
    "            name='Variance Initial Fitness'\n",
    "        )\n",
    "        mean_line = go.Scatter(\n",
    "            x=[mean_initial_fitness, mean_initial_fitness],\n",
    "            y=[0, max([d[1] + 1 for d in fitness_lambda_data])],\n",
    "            mode='lines',\n",
    "            name=f'Mean Initial Fitness',\n",
    "            line=dict(color='green', width=2, dash='dot')\n",
    "        )\n",
    "        data.extend([upper_bound, lower_bound, mean_line])\n",
    "\n",
    "    layout = go.Layout(\n",
    "        title=f'Fitness-Lambda Assignment for Policy {policy_id}',\n",
    "        xaxis=dict(title='Fitness'),\n",
    "        yaxis=dict(title='Lambda'),\n",
    "        font=dict(family='Courier New, monospace', size=18, color='RebeccaPurple'),\n",
    "        paper_bgcolor='rgba(0,0,0,0)',\n",
    "        plot_bgcolor='rgba(245, 245, 245, 1)'\n",
    "    )\n",
    "\n",
    "    conn.close()\n",
    "    fig = go.Figure(data=data, layout=layout)\n",
    "    fig.show()"
   ]
  },
  {
   "cell_type": "code",
   "execution_count": 6,
   "id": "e478eea8-89a1-4c1f-8452-44ed04c7a8b1",
   "metadata": {},
   "outputs": [
    {
     "name": "stdout",
     "output_type": "stream",
     "text": [
      "../computed/cirrus/underhand.db\n",
      "../computed/cirrus/protector.db\n",
      "../computed/cirrus/glacial.db\n",
      "../computed/cirrus/anytime.db\n",
      "../computed/cirrus/garage.db\n",
      "../computed/cirrus/giggly.db\n",
      "../computed/cirrus/quality.db\n",
      "../computed/cirrus/pediatric.db\n",
      "../computed/cirrus/area.db\n",
      "../computed/cirrus/handshake.db\n",
      "../computed/cirrus/ladle.db\n",
      "../computed/cirrus/pep.db\n",
      "../computed/cirrus/glorified.db\n",
      "../computed/cirrus/primp.db\n",
      "../computed/cirrus/propeller.db\n",
      "../computed/cirrus/disorder.db\n"
     ]
    }
   ],
   "source": [
    "db_folder_path = '../computed/cirrus/'\n",
    "filter_expression = {\n",
    "  \"max_training_timesteps\": \"{} == {}\",\n",
    "  \"ppo\": {\n",
    "    \"n_steps\": \"{} == {}\",\n",
    "    \"policy\": \"{} == {}\",\n",
    "    \"batch_size\": \"{} == 100\",\n",
    "    \"gamma\": \"{} == {}\",\n",
    "    \"gae_lambda\": \"{} <= 0.98\",\n",
    "    \"vf_coef\": \"{} == {}\",\n",
    "    \"net_arch\": [\n",
    "      \"{} == {}\",\n",
    "      \"{} == {}\",\n",
    "    ],\n",
    "    \"learning_rate\": \"{} == {}\",\n",
    "    \"clip_range\": \"{} == {}\",\n",
    "    \"n_epochs\": \"{} == {}\",\n",
    "    \"ent_coef\": \"{} == {}\",\n",
    "  },\n",
    "  \"n\": \"{} >= 40\",\n",
    "  \"num_timesteps_per_evaluation\": \"{} == {}\",\n",
    "  \"reward_type\": \"{} == {}\",\n",
    "  \"num_evaluation_episodes\": \"{} == {}\",\n",
    "  \"action_type\": \"{} == {}\",\n",
    "  \"num_lambdas\": \"{} == {}\",\n",
    "  \"random_seed\": \"{} == {}\",\n",
    "  \"probability_of_closeness_to_optimum\": \"{} == {}\",\n",
    "  \"state_type\": \"{} == {}\"\n",
    "}\n",
    "\n",
    "\n",
    "\n",
    "configs = load_configs_from_folder(db_folder_path)\n",
    "matching_db_paths = filter_configs(configs, filter_expression)\n",
    "for path in matching_db_paths:\n",
    "  print(path)"
   ]
  },
  {
   "cell_type": "code",
   "execution_count": 7,
   "id": "54bc5fd1-de37-4b69-b89b-b0b75bddbd72",
   "metadata": {},
   "outputs": [
    {
     "data": {
      "application/vnd.plotly.v1+json": {
       "config": {
        "plotlyServerURL": "https://plot.ly"
       },
       "data": [
        {
         "line": {
          "color": "blue",
          "width": 4
         },
         "mode": "lines+markers",
         "name": "#FEs until optimum",
         "type": "scatter",
         "x": [
          0,
          4000,
          8000,
          12000,
          16000,
          20000,
          24000,
          28000,
          32000,
          36000,
          40000,
          44000,
          48000,
          52000,
          56000,
          60000,
          64000,
          68000,
          72000,
          76000,
          80000,
          84000,
          88000,
          92000,
          96000,
          100000,
          104000,
          108000,
          112000,
          116000,
          120000,
          124000,
          128000,
          132000,
          136000,
          140000,
          144000,
          148000,
          152000,
          156000,
          160000,
          164000,
          168000,
          172000,
          176000,
          180000,
          184000,
          188000,
          192000,
          196000,
          200000,
          204000,
          208000,
          212000,
          216000,
          220000,
          224000,
          228000,
          232000,
          236000,
          240000,
          244000,
          248000
         ],
         "y": [
          251.411,
          265.689,
          258.39,
          213.866,
          210.22,
          193.229,
          207.948,
          209.392,
          213.649,
          211.304,
          204.46,
          204.383,
          185.725,
          185.39,
          180.21,
          178.049,
          180.617,
          189.197,
          183.928,
          182.395,
          183.194,
          182.596,
          187.902,
          193.072,
          191.754,
          186.46,
          179.96,
          191.711,
          187.234,
          193.536,
          193.182,
          191.415,
          180.586,
          190.204,
          176.429,
          186.291,
          177.833,
          172.41,
          183.658,
          174.049,
          188.284,
          184.281,
          191.284,
          190.462,
          193.052,
          191.254,
          188.278,
          182.953,
          186.759,
          190.955,
          192.089,
          180.415,
          188.004,
          187.494,
          189.167,
          192.91,
          189.483,
          192.132,
          194.382,
          191.504,
          190.125,
          189.95,
          183.848
         ]
        },
        {
         "line": {
          "color": "rgba(173,216,230,0.2)"
         },
         "mode": "lines",
         "name": "Upper Bound (Mean + Std. Dev.)",
         "type": "scatter",
         "x": [
          0,
          4000,
          8000,
          12000,
          16000,
          20000,
          24000,
          28000,
          32000,
          36000,
          40000,
          44000,
          48000,
          52000,
          56000,
          60000,
          64000,
          68000,
          72000,
          76000,
          80000,
          84000,
          88000,
          92000,
          96000,
          100000,
          104000,
          108000,
          112000,
          116000,
          120000,
          124000,
          128000,
          132000,
          136000,
          140000,
          144000,
          148000,
          152000,
          156000,
          160000,
          164000,
          168000,
          172000,
          176000,
          180000,
          184000,
          188000,
          192000,
          196000,
          200000,
          204000,
          208000,
          212000,
          216000,
          220000,
          224000,
          228000,
          232000,
          236000,
          240000,
          244000,
          248000
         ],
         "y": [
          409.87610681850424,
          443.4517809160288,
          425.9871416820704,
          341.7896883614602,
          333.5421294010123,
          312.50171506509787,
          336.8201897695542,
          334.3680310459568,
          339.9068623254806,
          340.75848460366285,
          328.81502563225985,
          331.05168717642897,
          292.01935250755344,
          293.30878381449634,
          282.4202436157941,
          283.3079122069956,
          281.77041967032073,
          298.61914671171456,
          291.99185527085365,
          283.93794153214196,
          287.7219788573375,
          294.12364134509437,
          298.6587984188782,
          308.76629033448444,
          302.61757149217226,
          305.3779565919293,
          284.27687495319253,
          306.6205621739115,
          301.835611000893,
          307.1858953101145,
          306.72116009906006,
          308.2359517809198,
          287.84563175398273,
          306.64882978647006,
          273.2874996734928,
          295.16171378015304,
          285.69341493986576,
          272.52373482195134,
          286.1274151247093,
          277.91148889276633,
          294.89616320851957,
          291.1922905122746,
          305.88181561618,
          304.1407075753414,
          311.4775179258254,
          299.43622351199855,
          302.4315663744238,
          292.3502430685528,
          302.33150935668044,
          301.6636038887674,
          307.74244387003773,
          292.2972272525891,
          297.0841722770917,
          301.5302046194102,
          301.603226862164,
          308.0915605902265,
          302.0478511348014,
          305.4358683187824,
          313.3441791831337,
          301.54036664303305,
          296.37044872605134,
          302.43625471585386,
          292.49907866928885
         ]
        },
        {
         "fill": "tonexty",
         "line": {
          "color": "rgba(173,216,230,0.2)"
         },
         "mode": "lines",
         "name": "Lower Bound (Mean - Std. Dev.)",
         "type": "scatter",
         "x": [
          0,
          4000,
          8000,
          12000,
          16000,
          20000,
          24000,
          28000,
          32000,
          36000,
          40000,
          44000,
          48000,
          52000,
          56000,
          60000,
          64000,
          68000,
          72000,
          76000,
          80000,
          84000,
          88000,
          92000,
          96000,
          100000,
          104000,
          108000,
          112000,
          116000,
          120000,
          124000,
          128000,
          132000,
          136000,
          140000,
          144000,
          148000,
          152000,
          156000,
          160000,
          164000,
          168000,
          172000,
          176000,
          180000,
          184000,
          188000,
          192000,
          196000,
          200000,
          204000,
          208000,
          212000,
          216000,
          220000,
          224000,
          228000,
          232000,
          236000,
          240000,
          244000,
          248000
         ],
         "y": [
          92.94589318149573,
          87.92621908397126,
          90.79285831792959,
          85.94231163853985,
          86.89787059898768,
          73.95628493490213,
          79.07581023044585,
          84.41596895404318,
          87.39113767451943,
          81.84951539633713,
          80.10497436774017,
          77.71431282357103,
          79.43064749244658,
          77.47121618550366,
          77.99975638420588,
          72.79008779300445,
          79.46358032967927,
          79.77485328828543,
          75.86414472914635,
          80.85205846785807,
          78.66602114266247,
          71.06835865490564,
          77.14520158112182,
          77.37770966551554,
          80.8904285078277,
          67.54204340807067,
          75.64312504680751,
          76.80143782608857,
          72.63238899910702,
          79.88610468988549,
          79.64283990093989,
          74.59404821908018,
          73.32636824601727,
          73.75917021352993,
          79.5705003265072,
          77.42028621984697,
          69.97258506013424,
          72.29626517804864,
          81.18858487529067,
          70.18651110723371,
          81.6718367914804,
          77.36970948772539,
          76.68618438382,
          76.78329242465857,
          74.62648207417459,
          83.07177648800145,
          74.12443362557615,
          73.55575693144719,
          71.18649064331953,
          80.24639611123263,
          76.43555612996227,
          68.53277274741089,
          78.9238277229083,
          73.4577953805898,
          76.73077313783605,
          77.72843940977351,
          76.91814886519857,
          78.82813168121761,
          75.4198208168663,
          81.46763335696694,
          83.87955127394868,
          77.46374528414611,
          75.19692133071119
         ]
        },
        {
         "line": {
          "color": "orange",
          "dash": "dash",
          "width": 2
         },
         "mode": "lines",
         "name": "Theory: √(𝑛/(𝑛 − 𝑓(𝑥)))",
         "type": "scatter",
         "x": [
          0,
          248000
         ],
         "y": [
          0,
          0
         ]
        },
        {
         "line": {
          "color": "rgba(255, 165, 0, 0.2)"
         },
         "mode": "lines",
         "name": "Upper Bound (Baseline Variance)",
         "type": "scatter",
         "x": [
          0,
          4000,
          8000,
          12000,
          16000,
          20000,
          24000,
          28000,
          32000,
          36000,
          40000,
          44000,
          48000,
          52000,
          56000,
          60000,
          64000,
          68000,
          72000,
          76000,
          80000,
          84000,
          88000,
          92000,
          96000,
          100000,
          104000,
          108000,
          112000,
          116000,
          120000,
          124000,
          128000,
          132000,
          136000,
          140000,
          144000,
          148000,
          152000,
          156000,
          160000,
          164000,
          168000,
          172000,
          176000,
          180000,
          184000,
          188000,
          192000,
          196000,
          200000,
          204000,
          208000,
          212000,
          216000,
          220000,
          224000,
          228000,
          232000,
          236000,
          240000,
          244000,
          248000
         ],
         "y": [
          211.67402980737833,
          211.67402980737833,
          211.67402980737833,
          211.67402980737833,
          211.67402980737833,
          211.67402980737833,
          211.67402980737833,
          211.67402980737833,
          211.67402980737833,
          211.67402980737833,
          211.67402980737833,
          211.67402980737833,
          211.67402980737833,
          211.67402980737833,
          211.67402980737833,
          211.67402980737833,
          211.67402980737833,
          211.67402980737833,
          211.67402980737833,
          211.67402980737833,
          211.67402980737833,
          211.67402980737833,
          211.67402980737833,
          211.67402980737833,
          211.67402980737833,
          211.67402980737833,
          211.67402980737833,
          211.67402980737833,
          211.67402980737833,
          211.67402980737833,
          211.67402980737833,
          211.67402980737833,
          211.67402980737833,
          211.67402980737833,
          211.67402980737833,
          211.67402980737833,
          211.67402980737833,
          211.67402980737833,
          211.67402980737833,
          211.67402980737833,
          211.67402980737833,
          211.67402980737833,
          211.67402980737833,
          211.67402980737833,
          211.67402980737833,
          211.67402980737833,
          211.67402980737833,
          211.67402980737833,
          211.67402980737833,
          211.67402980737833,
          211.67402980737833,
          211.67402980737833,
          211.67402980737833,
          211.67402980737833,
          211.67402980737833,
          211.67402980737833,
          211.67402980737833,
          211.67402980737833,
          211.67402980737833,
          211.67402980737833,
          211.67402980737833,
          211.67402980737833,
          211.67402980737833
         ]
        },
        {
         "fill": "tonexty",
         "line": {
          "color": "rgba(255, 165, 0, 0.2)"
         },
         "mode": "lines",
         "name": "Lower Bound (Baseline Variance)",
         "type": "scatter",
         "x": [
          0,
          4000,
          8000,
          12000,
          16000,
          20000,
          24000,
          28000,
          32000,
          36000,
          40000,
          44000,
          48000,
          52000,
          56000,
          60000,
          64000,
          68000,
          72000,
          76000,
          80000,
          84000,
          88000,
          92000,
          96000,
          100000,
          104000,
          108000,
          112000,
          116000,
          120000,
          124000,
          128000,
          132000,
          136000,
          140000,
          144000,
          148000,
          152000,
          156000,
          160000,
          164000,
          168000,
          172000,
          176000,
          180000,
          184000,
          188000,
          192000,
          196000,
          200000,
          204000,
          208000,
          212000,
          216000,
          220000,
          224000,
          228000,
          232000,
          236000,
          240000,
          244000,
          248000
         ],
         "y": [
          -211.67402980737833,
          -211.67402980737833,
          -211.67402980737833,
          -211.67402980737833,
          -211.67402980737833,
          -211.67402980737833,
          -211.67402980737833,
          -211.67402980737833,
          -211.67402980737833,
          -211.67402980737833,
          -211.67402980737833,
          -211.67402980737833,
          -211.67402980737833,
          -211.67402980737833,
          -211.67402980737833,
          -211.67402980737833,
          -211.67402980737833,
          -211.67402980737833,
          -211.67402980737833,
          -211.67402980737833,
          -211.67402980737833,
          -211.67402980737833,
          -211.67402980737833,
          -211.67402980737833,
          -211.67402980737833,
          -211.67402980737833,
          -211.67402980737833,
          -211.67402980737833,
          -211.67402980737833,
          -211.67402980737833,
          -211.67402980737833,
          -211.67402980737833,
          -211.67402980737833,
          -211.67402980737833,
          -211.67402980737833,
          -211.67402980737833,
          -211.67402980737833,
          -211.67402980737833,
          -211.67402980737833,
          -211.67402980737833,
          -211.67402980737833,
          -211.67402980737833,
          -211.67402980737833,
          -211.67402980737833,
          -211.67402980737833,
          -211.67402980737833,
          -211.67402980737833,
          -211.67402980737833,
          -211.67402980737833,
          -211.67402980737833,
          -211.67402980737833,
          -211.67402980737833,
          -211.67402980737833,
          -211.67402980737833,
          -211.67402980737833,
          -211.67402980737833,
          -211.67402980737833,
          -211.67402980737833,
          -211.67402980737833,
          -211.67402980737833,
          -211.67402980737833,
          -211.67402980737833,
          -211.67402980737833
         ]
        }
       ],
       "layout": {
        "font": {
         "color": "RebeccaPurple",
         "family": "Courier New, monospace",
         "size": 18
        },
        "height": 600,
        "margin": {
         "b": 100,
         "l": 50,
         "pad": 4,
         "r": 50,
         "t": 100
        },
        "paper_bgcolor": "rgba(0,0,0,0)",
        "plot_bgcolor": "rgba(245, 245, 245, 1)",
        "showlegend": false,
        "template": {
         "data": {
          "bar": [
           {
            "error_x": {
             "color": "#2a3f5f"
            },
            "error_y": {
             "color": "#2a3f5f"
            },
            "marker": {
             "line": {
              "color": "#E5ECF6",
              "width": 0.5
             },
             "pattern": {
              "fillmode": "overlay",
              "size": 10,
              "solidity": 0.2
             }
            },
            "type": "bar"
           }
          ],
          "barpolar": [
           {
            "marker": {
             "line": {
              "color": "#E5ECF6",
              "width": 0.5
             },
             "pattern": {
              "fillmode": "overlay",
              "size": 10,
              "solidity": 0.2
             }
            },
            "type": "barpolar"
           }
          ],
          "carpet": [
           {
            "aaxis": {
             "endlinecolor": "#2a3f5f",
             "gridcolor": "white",
             "linecolor": "white",
             "minorgridcolor": "white",
             "startlinecolor": "#2a3f5f"
            },
            "baxis": {
             "endlinecolor": "#2a3f5f",
             "gridcolor": "white",
             "linecolor": "white",
             "minorgridcolor": "white",
             "startlinecolor": "#2a3f5f"
            },
            "type": "carpet"
           }
          ],
          "choropleth": [
           {
            "colorbar": {
             "outlinewidth": 0,
             "ticks": ""
            },
            "type": "choropleth"
           }
          ],
          "contour": [
           {
            "colorbar": {
             "outlinewidth": 0,
             "ticks": ""
            },
            "colorscale": [
             [
              0,
              "#0d0887"
             ],
             [
              0.1111111111111111,
              "#46039f"
             ],
             [
              0.2222222222222222,
              "#7201a8"
             ],
             [
              0.3333333333333333,
              "#9c179e"
             ],
             [
              0.4444444444444444,
              "#bd3786"
             ],
             [
              0.5555555555555556,
              "#d8576b"
             ],
             [
              0.6666666666666666,
              "#ed7953"
             ],
             [
              0.7777777777777778,
              "#fb9f3a"
             ],
             [
              0.8888888888888888,
              "#fdca26"
             ],
             [
              1,
              "#f0f921"
             ]
            ],
            "type": "contour"
           }
          ],
          "contourcarpet": [
           {
            "colorbar": {
             "outlinewidth": 0,
             "ticks": ""
            },
            "type": "contourcarpet"
           }
          ],
          "heatmap": [
           {
            "colorbar": {
             "outlinewidth": 0,
             "ticks": ""
            },
            "colorscale": [
             [
              0,
              "#0d0887"
             ],
             [
              0.1111111111111111,
              "#46039f"
             ],
             [
              0.2222222222222222,
              "#7201a8"
             ],
             [
              0.3333333333333333,
              "#9c179e"
             ],
             [
              0.4444444444444444,
              "#bd3786"
             ],
             [
              0.5555555555555556,
              "#d8576b"
             ],
             [
              0.6666666666666666,
              "#ed7953"
             ],
             [
              0.7777777777777778,
              "#fb9f3a"
             ],
             [
              0.8888888888888888,
              "#fdca26"
             ],
             [
              1,
              "#f0f921"
             ]
            ],
            "type": "heatmap"
           }
          ],
          "heatmapgl": [
           {
            "colorbar": {
             "outlinewidth": 0,
             "ticks": ""
            },
            "colorscale": [
             [
              0,
              "#0d0887"
             ],
             [
              0.1111111111111111,
              "#46039f"
             ],
             [
              0.2222222222222222,
              "#7201a8"
             ],
             [
              0.3333333333333333,
              "#9c179e"
             ],
             [
              0.4444444444444444,
              "#bd3786"
             ],
             [
              0.5555555555555556,
              "#d8576b"
             ],
             [
              0.6666666666666666,
              "#ed7953"
             ],
             [
              0.7777777777777778,
              "#fb9f3a"
             ],
             [
              0.8888888888888888,
              "#fdca26"
             ],
             [
              1,
              "#f0f921"
             ]
            ],
            "type": "heatmapgl"
           }
          ],
          "histogram": [
           {
            "marker": {
             "pattern": {
              "fillmode": "overlay",
              "size": 10,
              "solidity": 0.2
             }
            },
            "type": "histogram"
           }
          ],
          "histogram2d": [
           {
            "colorbar": {
             "outlinewidth": 0,
             "ticks": ""
            },
            "colorscale": [
             [
              0,
              "#0d0887"
             ],
             [
              0.1111111111111111,
              "#46039f"
             ],
             [
              0.2222222222222222,
              "#7201a8"
             ],
             [
              0.3333333333333333,
              "#9c179e"
             ],
             [
              0.4444444444444444,
              "#bd3786"
             ],
             [
              0.5555555555555556,
              "#d8576b"
             ],
             [
              0.6666666666666666,
              "#ed7953"
             ],
             [
              0.7777777777777778,
              "#fb9f3a"
             ],
             [
              0.8888888888888888,
              "#fdca26"
             ],
             [
              1,
              "#f0f921"
             ]
            ],
            "type": "histogram2d"
           }
          ],
          "histogram2dcontour": [
           {
            "colorbar": {
             "outlinewidth": 0,
             "ticks": ""
            },
            "colorscale": [
             [
              0,
              "#0d0887"
             ],
             [
              0.1111111111111111,
              "#46039f"
             ],
             [
              0.2222222222222222,
              "#7201a8"
             ],
             [
              0.3333333333333333,
              "#9c179e"
             ],
             [
              0.4444444444444444,
              "#bd3786"
             ],
             [
              0.5555555555555556,
              "#d8576b"
             ],
             [
              0.6666666666666666,
              "#ed7953"
             ],
             [
              0.7777777777777778,
              "#fb9f3a"
             ],
             [
              0.8888888888888888,
              "#fdca26"
             ],
             [
              1,
              "#f0f921"
             ]
            ],
            "type": "histogram2dcontour"
           }
          ],
          "mesh3d": [
           {
            "colorbar": {
             "outlinewidth": 0,
             "ticks": ""
            },
            "type": "mesh3d"
           }
          ],
          "parcoords": [
           {
            "line": {
             "colorbar": {
              "outlinewidth": 0,
              "ticks": ""
             }
            },
            "type": "parcoords"
           }
          ],
          "pie": [
           {
            "automargin": true,
            "type": "pie"
           }
          ],
          "scatter": [
           {
            "fillpattern": {
             "fillmode": "overlay",
             "size": 10,
             "solidity": 0.2
            },
            "type": "scatter"
           }
          ],
          "scatter3d": [
           {
            "line": {
             "colorbar": {
              "outlinewidth": 0,
              "ticks": ""
             }
            },
            "marker": {
             "colorbar": {
              "outlinewidth": 0,
              "ticks": ""
             }
            },
            "type": "scatter3d"
           }
          ],
          "scattercarpet": [
           {
            "marker": {
             "colorbar": {
              "outlinewidth": 0,
              "ticks": ""
             }
            },
            "type": "scattercarpet"
           }
          ],
          "scattergeo": [
           {
            "marker": {
             "colorbar": {
              "outlinewidth": 0,
              "ticks": ""
             }
            },
            "type": "scattergeo"
           }
          ],
          "scattergl": [
           {
            "marker": {
             "colorbar": {
              "outlinewidth": 0,
              "ticks": ""
             }
            },
            "type": "scattergl"
           }
          ],
          "scattermapbox": [
           {
            "marker": {
             "colorbar": {
              "outlinewidth": 0,
              "ticks": ""
             }
            },
            "type": "scattermapbox"
           }
          ],
          "scatterpolar": [
           {
            "marker": {
             "colorbar": {
              "outlinewidth": 0,
              "ticks": ""
             }
            },
            "type": "scatterpolar"
           }
          ],
          "scatterpolargl": [
           {
            "marker": {
             "colorbar": {
              "outlinewidth": 0,
              "ticks": ""
             }
            },
            "type": "scatterpolargl"
           }
          ],
          "scatterternary": [
           {
            "marker": {
             "colorbar": {
              "outlinewidth": 0,
              "ticks": ""
             }
            },
            "type": "scatterternary"
           }
          ],
          "surface": [
           {
            "colorbar": {
             "outlinewidth": 0,
             "ticks": ""
            },
            "colorscale": [
             [
              0,
              "#0d0887"
             ],
             [
              0.1111111111111111,
              "#46039f"
             ],
             [
              0.2222222222222222,
              "#7201a8"
             ],
             [
              0.3333333333333333,
              "#9c179e"
             ],
             [
              0.4444444444444444,
              "#bd3786"
             ],
             [
              0.5555555555555556,
              "#d8576b"
             ],
             [
              0.6666666666666666,
              "#ed7953"
             ],
             [
              0.7777777777777778,
              "#fb9f3a"
             ],
             [
              0.8888888888888888,
              "#fdca26"
             ],
             [
              1,
              "#f0f921"
             ]
            ],
            "type": "surface"
           }
          ],
          "table": [
           {
            "cells": {
             "fill": {
              "color": "#EBF0F8"
             },
             "line": {
              "color": "white"
             }
            },
            "header": {
             "fill": {
              "color": "#C8D4E3"
             },
             "line": {
              "color": "white"
             }
            },
            "type": "table"
           }
          ]
         },
         "layout": {
          "annotationdefaults": {
           "arrowcolor": "#2a3f5f",
           "arrowhead": 0,
           "arrowwidth": 1
          },
          "autotypenumbers": "strict",
          "coloraxis": {
           "colorbar": {
            "outlinewidth": 0,
            "ticks": ""
           }
          },
          "colorscale": {
           "diverging": [
            [
             0,
             "#8e0152"
            ],
            [
             0.1,
             "#c51b7d"
            ],
            [
             0.2,
             "#de77ae"
            ],
            [
             0.3,
             "#f1b6da"
            ],
            [
             0.4,
             "#fde0ef"
            ],
            [
             0.5,
             "#f7f7f7"
            ],
            [
             0.6,
             "#e6f5d0"
            ],
            [
             0.7,
             "#b8e186"
            ],
            [
             0.8,
             "#7fbc41"
            ],
            [
             0.9,
             "#4d9221"
            ],
            [
             1,
             "#276419"
            ]
           ],
           "sequential": [
            [
             0,
             "#0d0887"
            ],
            [
             0.1111111111111111,
             "#46039f"
            ],
            [
             0.2222222222222222,
             "#7201a8"
            ],
            [
             0.3333333333333333,
             "#9c179e"
            ],
            [
             0.4444444444444444,
             "#bd3786"
            ],
            [
             0.5555555555555556,
             "#d8576b"
            ],
            [
             0.6666666666666666,
             "#ed7953"
            ],
            [
             0.7777777777777778,
             "#fb9f3a"
            ],
            [
             0.8888888888888888,
             "#fdca26"
            ],
            [
             1,
             "#f0f921"
            ]
           ],
           "sequentialminus": [
            [
             0,
             "#0d0887"
            ],
            [
             0.1111111111111111,
             "#46039f"
            ],
            [
             0.2222222222222222,
             "#7201a8"
            ],
            [
             0.3333333333333333,
             "#9c179e"
            ],
            [
             0.4444444444444444,
             "#bd3786"
            ],
            [
             0.5555555555555556,
             "#d8576b"
            ],
            [
             0.6666666666666666,
             "#ed7953"
            ],
            [
             0.7777777777777778,
             "#fb9f3a"
            ],
            [
             0.8888888888888888,
             "#fdca26"
            ],
            [
             1,
             "#f0f921"
            ]
           ]
          },
          "colorway": [
           "#636efa",
           "#EF553B",
           "#00cc96",
           "#ab63fa",
           "#FFA15A",
           "#19d3f3",
           "#FF6692",
           "#B6E880",
           "#FF97FF",
           "#FECB52"
          ],
          "font": {
           "color": "#2a3f5f"
          },
          "geo": {
           "bgcolor": "white",
           "lakecolor": "white",
           "landcolor": "#E5ECF6",
           "showlakes": true,
           "showland": true,
           "subunitcolor": "white"
          },
          "hoverlabel": {
           "align": "left"
          },
          "hovermode": "closest",
          "mapbox": {
           "style": "light"
          },
          "paper_bgcolor": "white",
          "plot_bgcolor": "#E5ECF6",
          "polar": {
           "angularaxis": {
            "gridcolor": "white",
            "linecolor": "white",
            "ticks": ""
           },
           "bgcolor": "#E5ECF6",
           "radialaxis": {
            "gridcolor": "white",
            "linecolor": "white",
            "ticks": ""
           }
          },
          "scene": {
           "xaxis": {
            "backgroundcolor": "#E5ECF6",
            "gridcolor": "white",
            "gridwidth": 2,
            "linecolor": "white",
            "showbackground": true,
            "ticks": "",
            "zerolinecolor": "white"
           },
           "yaxis": {
            "backgroundcolor": "#E5ECF6",
            "gridcolor": "white",
            "gridwidth": 2,
            "linecolor": "white",
            "showbackground": true,
            "ticks": "",
            "zerolinecolor": "white"
           },
           "zaxis": {
            "backgroundcolor": "#E5ECF6",
            "gridcolor": "white",
            "gridwidth": 2,
            "linecolor": "white",
            "showbackground": true,
            "ticks": "",
            "zerolinecolor": "white"
           }
          },
          "shapedefaults": {
           "line": {
            "color": "#2a3f5f"
           }
          },
          "ternary": {
           "aaxis": {
            "gridcolor": "white",
            "linecolor": "white",
            "ticks": ""
           },
           "baxis": {
            "gridcolor": "white",
            "linecolor": "white",
            "ticks": ""
           },
           "bgcolor": "#E5ECF6",
           "caxis": {
            "gridcolor": "white",
            "linecolor": "white",
            "ticks": ""
           }
          },
          "title": {
           "x": 0.05
          },
          "xaxis": {
           "automargin": true,
           "gridcolor": "white",
           "linecolor": "white",
           "ticks": "",
           "title": {
            "standoff": 15
           },
           "zerolinecolor": "white",
           "zerolinewidth": 2
          },
          "yaxis": {
           "automargin": true,
           "gridcolor": "white",
           "linecolor": "white",
           "ticks": "",
           "title": {
            "standoff": 15
           },
           "zerolinecolor": "white",
           "zerolinewidth": 2
          }
         }
        },
        "title": {
         "font": {
          "size": 24
         }
        },
        "width": 1100,
        "xaxis": {
         "gridcolor": "lightgrey",
         "gridwidth": 2,
         "tickfont": {
          "size": 14
         },
         "title": {
          "font": {
           "size": 18
          },
          "text": "Num Total Timesteps"
         }
        },
        "yaxis": {
         "gridcolor": "lightgrey",
         "gridwidth": 2,
         "tickfont": {
          "size": 14
         },
         "title": {
          "font": {
           "size": 18
          },
          "text": "#FEs until optimum"
         }
        }
       }
      }
     },
     "metadata": {},
     "output_type": "display_data"
    }
   ],
   "source": [
    "policy_performance(db_path = \"../computed/cirrus/underhand.db\", xaxis_choice = \"num_total_timesteps\")"
   ]
  },
  {
   "cell_type": "code",
   "execution_count": 8,
   "id": "3fce6420",
   "metadata": {},
   "outputs": [
    {
     "data": {
      "application/vnd.plotly.v1+json": {
       "config": {
        "plotlyServerURL": "https://plot.ly"
       },
       "data": [
        {
         "line": {
          "color": "orange",
          "width": 4
         },
         "mode": "lines+markers",
         "name": "Baseline Fitness-Lambda",
         "type": "scatter",
         "x": [
          0,
          1,
          2,
          3,
          4,
          5,
          6,
          7,
          8,
          9,
          10,
          11,
          12,
          13,
          14,
          15,
          16,
          17,
          18,
          19,
          20,
          21,
          22,
          23,
          24,
          25,
          26,
          27,
          28,
          29,
          30,
          31,
          32,
          33,
          34,
          35,
          36,
          37,
          38,
          39,
          40,
          41,
          42,
          43,
          44,
          45,
          46,
          47,
          48,
          49,
          50,
          51,
          52,
          53,
          54,
          55,
          56,
          57,
          58,
          59,
          60,
          61,
          62,
          63,
          64,
          65,
          66,
          67,
          68,
          69,
          70,
          71,
          72,
          73,
          74,
          75,
          76,
          77,
          78,
          79
         ],
         "y": [
          1,
          1,
          1,
          1,
          1,
          1,
          1,
          1,
          1,
          1,
          1,
          1,
          1,
          1,
          1,
          1,
          1,
          1,
          1,
          1,
          1,
          1,
          1,
          1,
          1,
          1,
          1,
          1,
          1,
          1,
          1,
          1,
          1,
          1,
          1,
          1,
          1,
          1,
          1,
          1,
          1,
          1,
          1,
          1,
          1,
          1,
          1,
          1,
          1,
          1,
          1,
          1,
          1,
          1,
          1,
          1,
          1,
          1,
          1,
          1,
          2,
          2,
          2,
          2,
          2,
          2,
          2,
          2,
          2,
          2,
          2,
          2,
          3,
          3,
          3,
          4,
          4,
          5,
          6,
          8
         ]
        },
        {
         "line": {
          "color": "blue",
          "width": 4
         },
         "mode": "lines+markers",
         "name": "Fitness-Lambda Policy 37",
         "type": "scatter",
         "x": [
          0,
          1,
          2,
          3,
          4,
          5,
          6,
          7,
          8,
          9,
          10,
          11,
          12,
          13,
          14,
          15,
          16,
          17,
          18,
          19,
          20,
          21,
          22,
          23,
          24,
          25,
          26,
          27,
          28,
          29,
          30,
          31,
          32,
          33,
          34,
          35,
          36,
          37,
          38,
          39,
          40,
          41,
          42,
          43,
          44,
          45,
          46,
          47,
          48,
          49,
          50,
          51,
          52,
          53,
          54,
          55,
          56,
          57,
          58,
          59,
          60,
          61,
          62,
          63,
          64,
          65,
          66,
          67,
          68,
          69,
          70,
          71,
          72,
          73,
          74,
          75,
          76,
          77,
          78,
          79
         ],
         "y": [
          6,
          6,
          6,
          6,
          6,
          6,
          6,
          6,
          6,
          6,
          6,
          6,
          6,
          6,
          6,
          6,
          6,
          6,
          6,
          6,
          6,
          6,
          6,
          6,
          6,
          6,
          6,
          6,
          6,
          6,
          6,
          6,
          6,
          6,
          6,
          6,
          6,
          6,
          6,
          6,
          6,
          6,
          6,
          6,
          6,
          6,
          6,
          6,
          6,
          6,
          6,
          6,
          6,
          6,
          6,
          6,
          6,
          6,
          6,
          6,
          6,
          6,
          6,
          6,
          6,
          6,
          6,
          6,
          6,
          6,
          6,
          6,
          6,
          6,
          6,
          6,
          6,
          6,
          6,
          8
         ]
        }
       ],
       "layout": {
        "font": {
         "color": "RebeccaPurple",
         "family": "Courier New, monospace",
         "size": 18
        },
        "paper_bgcolor": "rgba(0,0,0,0)",
        "plot_bgcolor": "rgba(245, 245, 245, 1)",
        "template": {
         "data": {
          "bar": [
           {
            "error_x": {
             "color": "#2a3f5f"
            },
            "error_y": {
             "color": "#2a3f5f"
            },
            "marker": {
             "line": {
              "color": "#E5ECF6",
              "width": 0.5
             },
             "pattern": {
              "fillmode": "overlay",
              "size": 10,
              "solidity": 0.2
             }
            },
            "type": "bar"
           }
          ],
          "barpolar": [
           {
            "marker": {
             "line": {
              "color": "#E5ECF6",
              "width": 0.5
             },
             "pattern": {
              "fillmode": "overlay",
              "size": 10,
              "solidity": 0.2
             }
            },
            "type": "barpolar"
           }
          ],
          "carpet": [
           {
            "aaxis": {
             "endlinecolor": "#2a3f5f",
             "gridcolor": "white",
             "linecolor": "white",
             "minorgridcolor": "white",
             "startlinecolor": "#2a3f5f"
            },
            "baxis": {
             "endlinecolor": "#2a3f5f",
             "gridcolor": "white",
             "linecolor": "white",
             "minorgridcolor": "white",
             "startlinecolor": "#2a3f5f"
            },
            "type": "carpet"
           }
          ],
          "choropleth": [
           {
            "colorbar": {
             "outlinewidth": 0,
             "ticks": ""
            },
            "type": "choropleth"
           }
          ],
          "contour": [
           {
            "colorbar": {
             "outlinewidth": 0,
             "ticks": ""
            },
            "colorscale": [
             [
              0,
              "#0d0887"
             ],
             [
              0.1111111111111111,
              "#46039f"
             ],
             [
              0.2222222222222222,
              "#7201a8"
             ],
             [
              0.3333333333333333,
              "#9c179e"
             ],
             [
              0.4444444444444444,
              "#bd3786"
             ],
             [
              0.5555555555555556,
              "#d8576b"
             ],
             [
              0.6666666666666666,
              "#ed7953"
             ],
             [
              0.7777777777777778,
              "#fb9f3a"
             ],
             [
              0.8888888888888888,
              "#fdca26"
             ],
             [
              1,
              "#f0f921"
             ]
            ],
            "type": "contour"
           }
          ],
          "contourcarpet": [
           {
            "colorbar": {
             "outlinewidth": 0,
             "ticks": ""
            },
            "type": "contourcarpet"
           }
          ],
          "heatmap": [
           {
            "colorbar": {
             "outlinewidth": 0,
             "ticks": ""
            },
            "colorscale": [
             [
              0,
              "#0d0887"
             ],
             [
              0.1111111111111111,
              "#46039f"
             ],
             [
              0.2222222222222222,
              "#7201a8"
             ],
             [
              0.3333333333333333,
              "#9c179e"
             ],
             [
              0.4444444444444444,
              "#bd3786"
             ],
             [
              0.5555555555555556,
              "#d8576b"
             ],
             [
              0.6666666666666666,
              "#ed7953"
             ],
             [
              0.7777777777777778,
              "#fb9f3a"
             ],
             [
              0.8888888888888888,
              "#fdca26"
             ],
             [
              1,
              "#f0f921"
             ]
            ],
            "type": "heatmap"
           }
          ],
          "heatmapgl": [
           {
            "colorbar": {
             "outlinewidth": 0,
             "ticks": ""
            },
            "colorscale": [
             [
              0,
              "#0d0887"
             ],
             [
              0.1111111111111111,
              "#46039f"
             ],
             [
              0.2222222222222222,
              "#7201a8"
             ],
             [
              0.3333333333333333,
              "#9c179e"
             ],
             [
              0.4444444444444444,
              "#bd3786"
             ],
             [
              0.5555555555555556,
              "#d8576b"
             ],
             [
              0.6666666666666666,
              "#ed7953"
             ],
             [
              0.7777777777777778,
              "#fb9f3a"
             ],
             [
              0.8888888888888888,
              "#fdca26"
             ],
             [
              1,
              "#f0f921"
             ]
            ],
            "type": "heatmapgl"
           }
          ],
          "histogram": [
           {
            "marker": {
             "pattern": {
              "fillmode": "overlay",
              "size": 10,
              "solidity": 0.2
             }
            },
            "type": "histogram"
           }
          ],
          "histogram2d": [
           {
            "colorbar": {
             "outlinewidth": 0,
             "ticks": ""
            },
            "colorscale": [
             [
              0,
              "#0d0887"
             ],
             [
              0.1111111111111111,
              "#46039f"
             ],
             [
              0.2222222222222222,
              "#7201a8"
             ],
             [
              0.3333333333333333,
              "#9c179e"
             ],
             [
              0.4444444444444444,
              "#bd3786"
             ],
             [
              0.5555555555555556,
              "#d8576b"
             ],
             [
              0.6666666666666666,
              "#ed7953"
             ],
             [
              0.7777777777777778,
              "#fb9f3a"
             ],
             [
              0.8888888888888888,
              "#fdca26"
             ],
             [
              1,
              "#f0f921"
             ]
            ],
            "type": "histogram2d"
           }
          ],
          "histogram2dcontour": [
           {
            "colorbar": {
             "outlinewidth": 0,
             "ticks": ""
            },
            "colorscale": [
             [
              0,
              "#0d0887"
             ],
             [
              0.1111111111111111,
              "#46039f"
             ],
             [
              0.2222222222222222,
              "#7201a8"
             ],
             [
              0.3333333333333333,
              "#9c179e"
             ],
             [
              0.4444444444444444,
              "#bd3786"
             ],
             [
              0.5555555555555556,
              "#d8576b"
             ],
             [
              0.6666666666666666,
              "#ed7953"
             ],
             [
              0.7777777777777778,
              "#fb9f3a"
             ],
             [
              0.8888888888888888,
              "#fdca26"
             ],
             [
              1,
              "#f0f921"
             ]
            ],
            "type": "histogram2dcontour"
           }
          ],
          "mesh3d": [
           {
            "colorbar": {
             "outlinewidth": 0,
             "ticks": ""
            },
            "type": "mesh3d"
           }
          ],
          "parcoords": [
           {
            "line": {
             "colorbar": {
              "outlinewidth": 0,
              "ticks": ""
             }
            },
            "type": "parcoords"
           }
          ],
          "pie": [
           {
            "automargin": true,
            "type": "pie"
           }
          ],
          "scatter": [
           {
            "fillpattern": {
             "fillmode": "overlay",
             "size": 10,
             "solidity": 0.2
            },
            "type": "scatter"
           }
          ],
          "scatter3d": [
           {
            "line": {
             "colorbar": {
              "outlinewidth": 0,
              "ticks": ""
             }
            },
            "marker": {
             "colorbar": {
              "outlinewidth": 0,
              "ticks": ""
             }
            },
            "type": "scatter3d"
           }
          ],
          "scattercarpet": [
           {
            "marker": {
             "colorbar": {
              "outlinewidth": 0,
              "ticks": ""
             }
            },
            "type": "scattercarpet"
           }
          ],
          "scattergeo": [
           {
            "marker": {
             "colorbar": {
              "outlinewidth": 0,
              "ticks": ""
             }
            },
            "type": "scattergeo"
           }
          ],
          "scattergl": [
           {
            "marker": {
             "colorbar": {
              "outlinewidth": 0,
              "ticks": ""
             }
            },
            "type": "scattergl"
           }
          ],
          "scattermapbox": [
           {
            "marker": {
             "colorbar": {
              "outlinewidth": 0,
              "ticks": ""
             }
            },
            "type": "scattermapbox"
           }
          ],
          "scatterpolar": [
           {
            "marker": {
             "colorbar": {
              "outlinewidth": 0,
              "ticks": ""
             }
            },
            "type": "scatterpolar"
           }
          ],
          "scatterpolargl": [
           {
            "marker": {
             "colorbar": {
              "outlinewidth": 0,
              "ticks": ""
             }
            },
            "type": "scatterpolargl"
           }
          ],
          "scatterternary": [
           {
            "marker": {
             "colorbar": {
              "outlinewidth": 0,
              "ticks": ""
             }
            },
            "type": "scatterternary"
           }
          ],
          "surface": [
           {
            "colorbar": {
             "outlinewidth": 0,
             "ticks": ""
            },
            "colorscale": [
             [
              0,
              "#0d0887"
             ],
             [
              0.1111111111111111,
              "#46039f"
             ],
             [
              0.2222222222222222,
              "#7201a8"
             ],
             [
              0.3333333333333333,
              "#9c179e"
             ],
             [
              0.4444444444444444,
              "#bd3786"
             ],
             [
              0.5555555555555556,
              "#d8576b"
             ],
             [
              0.6666666666666666,
              "#ed7953"
             ],
             [
              0.7777777777777778,
              "#fb9f3a"
             ],
             [
              0.8888888888888888,
              "#fdca26"
             ],
             [
              1,
              "#f0f921"
             ]
            ],
            "type": "surface"
           }
          ],
          "table": [
           {
            "cells": {
             "fill": {
              "color": "#EBF0F8"
             },
             "line": {
              "color": "white"
             }
            },
            "header": {
             "fill": {
              "color": "#C8D4E3"
             },
             "line": {
              "color": "white"
             }
            },
            "type": "table"
           }
          ]
         },
         "layout": {
          "annotationdefaults": {
           "arrowcolor": "#2a3f5f",
           "arrowhead": 0,
           "arrowwidth": 1
          },
          "autotypenumbers": "strict",
          "coloraxis": {
           "colorbar": {
            "outlinewidth": 0,
            "ticks": ""
           }
          },
          "colorscale": {
           "diverging": [
            [
             0,
             "#8e0152"
            ],
            [
             0.1,
             "#c51b7d"
            ],
            [
             0.2,
             "#de77ae"
            ],
            [
             0.3,
             "#f1b6da"
            ],
            [
             0.4,
             "#fde0ef"
            ],
            [
             0.5,
             "#f7f7f7"
            ],
            [
             0.6,
             "#e6f5d0"
            ],
            [
             0.7,
             "#b8e186"
            ],
            [
             0.8,
             "#7fbc41"
            ],
            [
             0.9,
             "#4d9221"
            ],
            [
             1,
             "#276419"
            ]
           ],
           "sequential": [
            [
             0,
             "#0d0887"
            ],
            [
             0.1111111111111111,
             "#46039f"
            ],
            [
             0.2222222222222222,
             "#7201a8"
            ],
            [
             0.3333333333333333,
             "#9c179e"
            ],
            [
             0.4444444444444444,
             "#bd3786"
            ],
            [
             0.5555555555555556,
             "#d8576b"
            ],
            [
             0.6666666666666666,
             "#ed7953"
            ],
            [
             0.7777777777777778,
             "#fb9f3a"
            ],
            [
             0.8888888888888888,
             "#fdca26"
            ],
            [
             1,
             "#f0f921"
            ]
           ],
           "sequentialminus": [
            [
             0,
             "#0d0887"
            ],
            [
             0.1111111111111111,
             "#46039f"
            ],
            [
             0.2222222222222222,
             "#7201a8"
            ],
            [
             0.3333333333333333,
             "#9c179e"
            ],
            [
             0.4444444444444444,
             "#bd3786"
            ],
            [
             0.5555555555555556,
             "#d8576b"
            ],
            [
             0.6666666666666666,
             "#ed7953"
            ],
            [
             0.7777777777777778,
             "#fb9f3a"
            ],
            [
             0.8888888888888888,
             "#fdca26"
            ],
            [
             1,
             "#f0f921"
            ]
           ]
          },
          "colorway": [
           "#636efa",
           "#EF553B",
           "#00cc96",
           "#ab63fa",
           "#FFA15A",
           "#19d3f3",
           "#FF6692",
           "#B6E880",
           "#FF97FF",
           "#FECB52"
          ],
          "font": {
           "color": "#2a3f5f"
          },
          "geo": {
           "bgcolor": "white",
           "lakecolor": "white",
           "landcolor": "#E5ECF6",
           "showlakes": true,
           "showland": true,
           "subunitcolor": "white"
          },
          "hoverlabel": {
           "align": "left"
          },
          "hovermode": "closest",
          "mapbox": {
           "style": "light"
          },
          "paper_bgcolor": "white",
          "plot_bgcolor": "#E5ECF6",
          "polar": {
           "angularaxis": {
            "gridcolor": "white",
            "linecolor": "white",
            "ticks": ""
           },
           "bgcolor": "#E5ECF6",
           "radialaxis": {
            "gridcolor": "white",
            "linecolor": "white",
            "ticks": ""
           }
          },
          "scene": {
           "xaxis": {
            "backgroundcolor": "#E5ECF6",
            "gridcolor": "white",
            "gridwidth": 2,
            "linecolor": "white",
            "showbackground": true,
            "ticks": "",
            "zerolinecolor": "white"
           },
           "yaxis": {
            "backgroundcolor": "#E5ECF6",
            "gridcolor": "white",
            "gridwidth": 2,
            "linecolor": "white",
            "showbackground": true,
            "ticks": "",
            "zerolinecolor": "white"
           },
           "zaxis": {
            "backgroundcolor": "#E5ECF6",
            "gridcolor": "white",
            "gridwidth": 2,
            "linecolor": "white",
            "showbackground": true,
            "ticks": "",
            "zerolinecolor": "white"
           }
          },
          "shapedefaults": {
           "line": {
            "color": "#2a3f5f"
           }
          },
          "ternary": {
           "aaxis": {
            "gridcolor": "white",
            "linecolor": "white",
            "ticks": ""
           },
           "baxis": {
            "gridcolor": "white",
            "linecolor": "white",
            "ticks": ""
           },
           "bgcolor": "#E5ECF6",
           "caxis": {
            "gridcolor": "white",
            "linecolor": "white",
            "ticks": ""
           }
          },
          "title": {
           "x": 0.05
          },
          "xaxis": {
           "automargin": true,
           "gridcolor": "white",
           "linecolor": "white",
           "ticks": "",
           "title": {
            "standoff": 15
           },
           "zerolinecolor": "white",
           "zerolinewidth": 2
          },
          "yaxis": {
           "automargin": true,
           "gridcolor": "white",
           "linecolor": "white",
           "ticks": "",
           "title": {
            "standoff": 15
           },
           "zerolinecolor": "white",
           "zerolinewidth": 2
          }
         }
        },
        "title": {
         "text": "Fitness-Lambda Assignment for Policy 37"
        },
        "xaxis": {
         "title": {
          "text": "Fitness"
         }
        },
        "yaxis": {
         "title": {
          "text": "Lambda"
         }
        }
       }
      }
     },
     "metadata": {},
     "output_type": "display_data"
    }
   ],
   "source": [
    "db_path = \"../computed/cirrus/underhand.db\"\n",
    "policy_total_timesteps = 144_000  \n",
    "generate_fitness_lambda_plot(db_path, policy_total_timesteps)"
   ]
  },
  {
   "cell_type": "code",
   "execution_count": null,
   "id": "e269b056",
   "metadata": {},
   "outputs": [],
   "source": []
  }
 ],
 "metadata": {
  "kernelspec": {
   "display_name": "Python 3 (ipykernel)",
   "language": "python",
   "name": "python3"
  },
  "language_info": {
   "codemirror_mode": {
    "name": "ipython",
    "version": 3
   },
   "file_extension": ".py",
   "mimetype": "text/x-python",
   "name": "python",
   "nbconvert_exporter": "python",
   "pygments_lexer": "ipython3",
   "version": "3.10.0"
  },
  "widgets": {
   "application/vnd.jupyter.widget-state+json": {
    "state": {},
    "version_major": 2,
    "version_minor": 0
   }
  }
 },
 "nbformat": 4,
 "nbformat_minor": 5
}
