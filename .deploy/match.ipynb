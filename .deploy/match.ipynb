{
 "cells": [
  {
   "cell_type": "code",
   "execution_count": 10,
   "id": "c19ed907-9691-427e-947d-68ef7d20a4de",
   "metadata": {},
   "outputs": [
    {
     "name": "stdout",
     "output_type": "stream",
     "text": [
      "['denatured.yaml', 'bobbing.yaml', 'gotten.yaml', 'vocalist.yaml', 'iphone.yaml', 'celibacy.yaml']\n"
     ]
    }
   ],
   "source": [
    "import os\n",
    "import yaml\n",
    "\n",
    "def find_matching_files(directory_path, filter_expression):\n",
    "  matching_files = []\n",
    "  key, value = filter_expression.split(':')\n",
    "\n",
    "  # Adjust value if it's a number\n",
    "  if value.replace('.', '', 1).isdigit():\n",
    "    value = float(value) if '.' in value else int(value)\n",
    "\n",
    "  for filename in os.listdir(directory_path):\n",
    "    if filename.endswith('.yaml'):\n",
    "      file_path = os.path.join(directory_path, filename)\n",
    "      with open(file_path, 'r') as file:\n",
    "        try:\n",
    "          data = yaml.safe_load(file)\n",
    "          if key in data and data[key] == value:\n",
    "            matching_files.append(filename)\n",
    "        except yaml.YAMLError as exc:\n",
    "          print(f\"Error parsing YAML file {filename}: {exc}\")\n",
    "\n",
    "  return matching_files\n",
    "\n",
    "# Example usage\n",
    "directory = '/home/dimitri/code/oll_onemax/config/ppo'\n",
    "filter_exp = 'ppo__learning_rate:0.0003'\n",
    "print(find_matching_files(directory, filter_exp))\n"
   ]
  }
 ],
 "metadata": {
  "kernelspec": {
   "display_name": "Python 3 (ipykernel)",
   "language": "python",
   "name": "python3"
  },
  "language_info": {
   "codemirror_mode": {
    "name": "ipython",
    "version": 3
   },
   "file_extension": ".py",
   "mimetype": "text/x-python",
   "name": "python",
   "nbconvert_exporter": "python",
   "pygments_lexer": "ipython3",
   "version": "3.10.0"
  },
  "widgets": {
   "application/vnd.jupyter.widget-state+json": {
    "state": {},
    "version_major": 2,
    "version_minor": 0
   }
  }
 },
 "nbformat": 4,
 "nbformat_minor": 5
}
